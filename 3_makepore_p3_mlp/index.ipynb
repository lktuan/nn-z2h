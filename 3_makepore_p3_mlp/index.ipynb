{
 "cells": [
  {
   "cell_type": "raw",
   "id": "e3fba775",
   "metadata": {},
   "source": [
    "---\n",
    "title: \"NN-Z2H Lesson 3: Building makemore part 2 - MLP\"\n",
    "description: \"implement a multilayer perceptron (MLP) character-level language model, introduce model training, learning rate tuning, hyperparameters, evaluation, train/dev/test splits, under/overfitting, etc.\"\n",
    "author:\n",
    "  - name: \"Tuan Le Khac\"\n",
    "    url: https://lktuan.github.io/\n",
    "categories: [til, python, andrej karpathy, nn-z2h, bigram, neural networks] \n",
    "date: 11-20-2024\n",
    "date-modified: 11-20-2024\n",
    "image: NLM_Bengio_etal.png\n",
    "fig-cap-location: bottom\n",
    "format:\n",
    "  html:\n",
    "    code-overflow: wrap\n",
    "    code-tools: true\n",
    "    code-fold: show\n",
    "    code-annotations: hover\n",
    "---"
   ]
  },
  {
   "cell_type": "markdown",
   "id": "7eeb5281",
   "metadata": {},
   "source": [
    "In the previous lecture, we built a simple `bigram` character-level language model, using 2 different approaches that are (1) count, and (2) 1 layer neural network. They produced the same (and both poor - since the context is 1 character only) result but the neural network option offers more flexibility so that we can complexify our model to get better performance.\n",
    "\n",
    "In this lecture we are going to implement 20-years ago neural probabilistic language model by *Bengio et al. (2003)*.\n",
    "\n",
    "# PART 1: intro to MLP\n",
    "\n",
    "## Bengio et al. 2003 (MLP language model) paper walkthrough\n",
    "\n",
    "### Summary\n",
    "\n",
    "**Problem Statement**:\n",
    "\n",
    "-   Traditional n-gram language models suffer from the *curse of dimensionality*: they can't effectively generalize to word sequences not seen in training data;\n",
    "-   The core issue is treating words as atomic units with no *inherent similarity* to each other;\n",
    "-   For example, if we've seen \"dog is eating\" in training but never \"cat is eating\", n-gram models can't leverage the similarity between \"dog\" and \"cat\";\n",
    "-   This leads to poor probability estimates for rare or unseen word sequences.\n",
    "\n",
    "**Solution**:\n",
    "\n",
    "-   Learn a *distributed representation* (embedding) for each word in a continuous vector space where similar words are close to each other;\n",
    "-   Use a neural network architecture with:\n",
    "    -   Input layer: concatenated embeddings of n-1 previous words;\n",
    "    -   Hidden layer: dense neural network with `tanh` activation;\n",
    "    -   Output layer: softmax over entire vocabulary to predict next word probability.\n",
    "\n",
    "**The model simultaneously learns**:\n",
    "\n",
    "-   Word feature vectors (embeddings) that capture *semantic/syntactic word similarities*;\n",
    "-   Neural network parameters that combine these features to estimate probability distributions.\n",
    "\n",
    "**Key advantages**:\n",
    "\n",
    "-   Words with similar meanings get similar feature vectors, enabling better *generalization*;\n",
    "-   The probability function is smooth with respect to word embeddings, so similar words yield *similar predictions*;\n",
    "-   Can generalize to *unseen sequences* by leveraging learned word similarities.\n",
    "\n",
    "### Methodology:\n",
    "\n",
    "-   Traditional Problem:\n",
    "\n",
    "    -   In n-gram models, each word sequence of length n is a separate parameter;\n",
    "    -   For vocabulary size $|V|$, need $|V|^n$ parameters;\n",
    "    -   Most sequences never appear in training, leading to poor generalization;\n",
    "\n",
    "-   Solution via **Distributed Representation**:\n",
    "\n",
    "    -   Each word mapped to a dense vector in $R^m$ (typically m=50-100);\n",
    "    -   Similar words get similar vectors through training;\n",
    "    -   Probability function is smooth w.r.t these vectors;\n",
    "    -   Key benefit: If \"dog\" and \"cat\" have similar vectors, model can generalize from \"dog is eating\" to \"cat is eating\";\n",
    "    -   Number of parameters reduces to $O(|V|×m + m×h + h×|V|)$, where $h$ is hidden layer size;\n",
    "    -   This is much smaller than $|V|^n$ and allows better generalization;\n",
    "\n",
    "### Neural architecture:\n",
    "\n",
    "**Input Layer**:\n",
    "\n",
    "-   Takes $n-1$ previous words (context window);\n",
    "-   Each word i mapped to vector $C(i) ∈ R^m$ via lookup table;\n",
    "-   Concatenates these vectors: $x = [C(wₜ₋ₙ₊₁), ..., C(wₜ₋₁)]$;\n",
    "-   $x$ dimension is $(n-1)×m$;\n",
    "\n",
    "**Hidden Layer**:\n",
    "\n",
    "-   Dense layer with tanh activation;\n",
    "-   Computation: $h = tanh(d + Hx)$;\n",
    "-   $H$ is weight matrix, $d$ is bias vector;\n",
    "-   Maps concatenated context to hidden representation;\n",
    "\n",
    "**Output Layer**:\n",
    "\n",
    "-   Computes probability distribution over all words;\n",
    "-   $y = b + Wx + Uh$;\n",
    "-   Softmax activation: $P(wₜ|context) = exp(yᵢ)/Σⱼexp(yⱼ)$;\n",
    "-   $W$ provides \"shortcut\" connections from input to output;\n",
    "-   Direct connection helps learn simpler patterns;\n",
    "\n",
    "**Training**:\n",
    "\n",
    "-   Maximizes log-likelihood of training data;\n",
    "-   Uses stochastic gradient descent;\n",
    "-   Learns both word vectors $C(i)$ and neural network parameters $(H, d, W, U, b)$;\n",
    "-   Word vectors capture similarities as they help predict similar contexts;\n",
    "-   Can initialize word vectors randomly or with pretrained vectors.\n",
    "\n",
    "![Neural Language Model proposed by (Bengio et al., 2003). C(i) is the i th word embedding.](NLM_Bengio_etal.png)\n",
    "\n",
    "## (re-)building our training dataset\n",
    "\n",
    "Loading library, reading data, building dictionary:"
   ]
  },
  {
   "cell_type": "code",
   "execution_count": null,
   "id": "10bbf19b",
   "metadata": {},
   "outputs": [],
   "source": [
    "import torch\n",
    "import torch.nn.functional as F\n",
    "import pandas as pd\n",
    "import matplotlib.pyplot as plt\n",
    "%matplotlib inline"
   ]
  },
  {
   "cell_type": "code",
   "execution_count": null,
   "id": "7e85e437",
   "metadata": {},
   "outputs": [
    {
     "data": {
      "text/plain": [
       "['emma', 'olivia', 'ava', 'isabella', 'sophia', 'charlotte', 'mia', 'amelia']"
      ]
     },
     "execution_count": 3,
     "metadata": {},
     "output_type": "execute_result"
    }
   ],
   "source": [
    "url = \"https://raw.githubusercontent.com/karpathy/makemore/refs/heads/master/names.txt\"\n",
    "words = pd.read_csv(url, header=None).iloc[:, 0].tolist()\n",
    "words[:8]"
   ]
  },
  {
   "cell_type": "code",
   "execution_count": 4,
   "id": "3cfd18f7",
   "metadata": {},
   "outputs": [
    {
     "data": {
      "text/plain": [
       "32033"
      ]
     },
     "execution_count": 4,
     "metadata": {},
     "output_type": "execute_result"
    }
   ],
   "source": [
    "len(words)"
   ]
  },
  {
   "cell_type": "code",
   "execution_count": 5,
   "id": "94923873",
   "metadata": {},
   "outputs": [
    {
     "data": {
      "text/plain": [
       "{1: 'a',\n",
       " 2: 'b',\n",
       " 3: 'c',\n",
       " 4: 'd',\n",
       " 5: 'e',\n",
       " 6: 'f',\n",
       " 7: 'g',\n",
       " 8: 'h',\n",
       " 9: 'i',\n",
       " 10: 'j',\n",
       " 11: 'k',\n",
       " 12: 'l',\n",
       " 13: 'm',\n",
       " 14: 'n',\n",
       " 15: 'o',\n",
       " 16: 'p',\n",
       " 17: 'q',\n",
       " 18: 'r',\n",
       " 19: 's',\n",
       " 20: 't',\n",
       " 21: 'u',\n",
       " 22: 'v',\n",
       " 23: 'w',\n",
       " 24: 'x',\n",
       " 25: 'y',\n",
       " 26: 'z',\n",
       " 0: '.'}"
      ]
     },
     "execution_count": 5,
     "metadata": {},
     "output_type": "execute_result"
    }
   ],
   "source": [
    "# build the vocabulary of characters and mapping to/from integer\n",
    "chars = sorted(list(set(''.join(words))))\n",
    "stoi = {s:i+1 for i, s in enumerate(chars)}\n",
    "stoi['.'] = 0\n",
    "\n",
    "itos = {i: s for s, i in stoi.items()}\n",
    "itos"
   ]
  },
  {
   "cell_type": "markdown",
   "id": "84df21a7",
   "metadata": {},
   "source": [
    "Building the dataset:"
   ]
  },
  {
   "cell_type": "code",
   "execution_count": 6,
   "id": "c9dab829",
   "metadata": {},
   "outputs": [
    {
     "name": "stdout",
     "output_type": "stream",
     "text": [
      "emma\n",
      "... -----> e\n",
      "..e -----> m\n",
      ".em -----> m\n",
      "emm -----> a\n",
      "mma -----> .\n",
      "olivia\n",
      "... -----> o\n",
      "..o -----> l\n",
      ".ol -----> i\n",
      "oli -----> v\n",
      "liv -----> i\n",
      "ivi -----> a\n",
      "via -----> .\n",
      "ava\n",
      "... -----> a\n",
      "..a -----> v\n",
      ".av -----> a\n",
      "ava -----> .\n",
      "isabella\n",
      "... -----> i\n",
      "..i -----> s\n",
      ".is -----> a\n",
      "isa -----> b\n",
      "sab -----> e\n",
      "abe -----> l\n",
      "bel -----> l\n",
      "ell -----> a\n",
      "lla -----> .\n",
      "sophia\n",
      "... -----> s\n",
      "..s -----> o\n",
      ".so -----> p\n",
      "sop -----> h\n",
      "oph -----> i\n",
      "phi -----> a\n",
      "hia -----> .\n"
     ]
    }
   ],
   "source": [
    "block_size = 3 # the context length: how many characters do we take to predict the next one?\n",
    "X, Y = [], []\n",
    "\n",
    "for w in words[:5]:\n",
    "    print(w)\n",
    "    context = [0] * block_size # 0 so context will be padded by '.'\n",
    "    for ch in w + '.':\n",
    "        ix = stoi[ch]\n",
    "        X.append(context)\n",
    "        Y.append(ix)\n",
    "        print(''.join(itos[i] for i in context), '----->', itos[ix] )\n",
    "        context = context[1:] + [ix] # rolling to the next one\n",
    "\n",
    "X = torch.tensor(X)\n",
    "Y = torch.tensor(Y)"
   ]
  },
  {
   "cell_type": "code",
   "execution_count": 7,
   "id": "27157c1d",
   "metadata": {},
   "outputs": [
    {
     "data": {
      "text/plain": [
       "(torch.Size([32, 3]), torch.int64, torch.Size([32]), torch.int64)"
      ]
     },
     "execution_count": 7,
     "metadata": {},
     "output_type": "execute_result"
    }
   ],
   "source": [
    "X.shape, X.dtype, Y.shape, Y.dtype"
   ]
  },
  {
   "cell_type": "markdown",
   "id": "eea5ac29",
   "metadata": {},
   "source": [
    "## implementing the embedding lookup table\n",
    "\n",
    "In the paper they cram 17k word into as-low-as-possible 30 dimensions space, for our data, we just cram words into 2D space."
   ]
  },
  {
   "cell_type": "code",
   "execution_count": 8,
   "id": "e6789ba3",
   "metadata": {},
   "outputs": [],
   "source": [
    "C = torch.randn((27, 2))"
   ]
  },
  {
   "cell_type": "markdown",
   "id": "83ae3a98",
   "metadata": {},
   "source": [
    "We can access the element of `torch.tensor` by:"
   ]
  },
  {
   "cell_type": "code",
   "execution_count": 9,
   "id": "418f3935",
   "metadata": {},
   "outputs": [
    {
     "data": {
      "text/plain": [
       "tensor([-0.6608,  0.2861])"
      ]
     },
     "execution_count": 9,
     "metadata": {},
     "output_type": "execute_result"
    }
   ],
   "source": [
    "C[5] # can be integer, list [5, 6, 7], or torch.tensor([5,6,7])\n",
    "# > tensor([1.0825, 0.2010])\n",
    "\n",
    "# or\n",
    "\n",
    "F.one_hot(torch.tensor(5), num_classes=27).float() @ C\n",
    "# produce identical result, remember torch.tensor() infer long dtype int64, so we need to cast to float"
   ]
  },
  {
   "cell_type": "markdown",
   "id": "4fcf1496",
   "metadata": {},
   "source": [
    "...but in this lecture accessing by `C[5]` would be sufficient. We can even access using a more than 1 dimension tensor:"
   ]
  },
  {
   "cell_type": "code",
   "execution_count": 10,
   "id": "900325de",
   "metadata": {},
   "outputs": [
    {
     "name": "stdout",
     "output_type": "stream",
     "text": [
      "torch.Size([32, 3, 2])\n",
      "tensor(1)\n",
      "tensor([-0.7415,  1.0744])\n",
      "tensor([-0.7415,  1.0744])\n"
     ]
    }
   ],
   "source": [
    "print(C[X].shape)\n",
    "print(X[13, 2]) # integer 1 for 13rd index of 2nd dimension\n",
    "print(C[X][13,2]) # will be the embedding of that element\n",
    "print(C[1]) # so C[X][13,2] = C[1]"
   ]
  },
  {
   "cell_type": "markdown",
   "id": "f68da62a",
   "metadata": {},
   "source": [
    "PyTorch is great for embedding words:"
   ]
  },
  {
   "cell_type": "code",
   "execution_count": 11,
   "id": "68519532",
   "metadata": {},
   "outputs": [
    {
     "data": {
      "text/plain": [
       "torch.Size([32, 3, 2])"
      ]
     },
     "execution_count": 11,
     "metadata": {},
     "output_type": "execute_result"
    }
   ],
   "source": [
    "emb = C[X]\n",
    "emb.shape"
   ]
  },
  {
   "cell_type": "markdown",
   "id": "f02031db",
   "metadata": {},
   "source": [
    "We've compeleted the first layer with `context` and lookup table!\n",
    "\n",
    "## implementing the hidden layer + internals of `torch.Tensor`: `storage`, `views`"
   ]
  },
  {
   "cell_type": "code",
   "execution_count": 12,
   "id": "65a73e6b",
   "metadata": {},
   "outputs": [],
   "source": [
    "# input of tanh layer will be 6 (3 words in context x 2 dimensions)\n",
    "# and the number or neurons is up to us - let's set it 100\n",
    "W1 = torch.randn((6, 100))\n",
    "b1 = torch.randn(100)"
   ]
  },
  {
   "cell_type": "markdown",
   "id": "c633e20b",
   "metadata": {},
   "source": [
    "Now we need to do something like `emb @ W1 + b1`, but `emb.shape` is `[32, 3, 2]` and `W1.shape` is `[6, 100]`. We need to somehow concatnate/transform:"
   ]
  },
  {
   "cell_type": "code",
   "execution_count": 13,
   "id": "4a4c392c",
   "metadata": {},
   "outputs": [
    {
     "data": {
      "text/plain": [
       "torch.Size([32, 6])"
      ]
     },
     "execution_count": 13,
     "metadata": {},
     "output_type": "execute_result"
    }
   ],
   "source": [
    "# emb[:, 0, :] is tensor for each input in the 3-words context, shape is [32, 2]\n",
    "# cat 3 of them using the 2nd dimension (index 1) -> so we set dim = 1\n",
    "torch.cat([emb[:, 0, :], emb[:, 1, :], emb[:, 2, :]], dim=1).shape"
   ]
  },
  {
   "cell_type": "markdown",
   "id": "62c6195d",
   "metadata": {},
   "source": [
    "However this code does not change dynamically when we change the block size. We will be using `torch.unbind()`"
   ]
  },
  {
   "cell_type": "code",
   "execution_count": 14,
   "id": "9c23df0f",
   "metadata": {},
   "outputs": [
    {
     "data": {
      "text/plain": [
       "torch.Size([32, 6])"
      ]
     },
     "execution_count": 14,
     "metadata": {},
     "output_type": "execute_result"
    }
   ],
   "source": [
    "# this is good!\n",
    "torch.cat(torch.unbind(emb, 1), 1).shape\n",
    "# new memory for storage is created, so it is not efficient"
   ]
  },
  {
   "cell_type": "markdown",
   "id": "55a8b410",
   "metadata": {},
   "source": [
    "This works, but we have a better and more efficient way to do this. Since:\n",
    "\n",
    "-   every `torch.Tensor` have `.storage()` which is one-dimensional vector tensor;\n",
    "-   when we call `.view()`, we instruct how this vector tensor is interpreted;\n",
    "-   no memory is being changed/copied/moved/or created. the storage is identical.\n",
    "\n",
    "Readmore: <http://blog.ezyang.com/2019/05/pytorch-internals/>\n",
    "\n",
    "So this hidden layer can be declared:"
   ]
  },
  {
   "cell_type": "code",
   "execution_count": 15,
   "id": "1c6757f5",
   "metadata": {},
   "outputs": [
    {
     "data": {
      "text/plain": [
       "torch.Size([32, 100])"
      ]
     },
     "execution_count": 15,
     "metadata": {},
     "output_type": "execute_result"
    }
   ],
   "source": [
    "# instead or 32 we can write emb.shape[1], or -1 (whatever fitted)\n",
    "h = emb.view(-1, 6) @ W1 + b1\n",
    "h.shape"
   ]
  },
  {
   "cell_type": "markdown",
   "id": "a04e8188",
   "metadata": {},
   "source": [
    "Notice that in the final operation, `b1` will be broadcasted.\n",
    "\n",
    "## implementing the output layer"
   ]
  },
  {
   "cell_type": "code",
   "execution_count": 16,
   "id": "12a50bc3",
   "metadata": {},
   "outputs": [],
   "source": [
    "W2 = torch.randn((100, 27))\n",
    "b2 = torch.randn(27)"
   ]
  },
  {
   "cell_type": "markdown",
   "id": "0ea28773",
   "metadata": {},
   "source": [
    "In Deep Learning, people use `logits` for what raw output that range from negative inf to positive inf."
   ]
  },
  {
   "cell_type": "code",
   "execution_count": 17,
   "id": "175f41e0",
   "metadata": {},
   "outputs": [],
   "source": [
    "logits = h @ W2 + b2"
   ]
  },
  {
   "cell_type": "code",
   "execution_count": 18,
   "id": "f2046e5f",
   "metadata": {},
   "outputs": [
    {
     "data": {
      "text/plain": [
       "torch.Size([32, 27])"
      ]
     },
     "execution_count": 18,
     "metadata": {},
     "output_type": "execute_result"
    }
   ],
   "source": [
    "logits.shape"
   ]
  },
  {
   "cell_type": "markdown",
   "id": "b248d7e8",
   "metadata": {},
   "source": [
    "Now we need to exponentiate it and get the probability."
   ]
  },
  {
   "cell_type": "code",
   "execution_count": 19,
   "id": "b91cfc33",
   "metadata": {},
   "outputs": [],
   "source": [
    "counts = logits.exp()"
   ]
  },
  {
   "cell_type": "code",
   "execution_count": 20,
   "id": "741cb2ac",
   "metadata": {},
   "outputs": [],
   "source": [
    "probs = counts / counts.sum(1, keepdims=True)"
   ]
  },
  {
   "cell_type": "code",
   "execution_count": 21,
   "id": "5945a495",
   "metadata": {},
   "outputs": [
    {
     "data": {
      "text/plain": [
       "torch.Size([32, 27])"
      ]
     },
     "execution_count": 21,
     "metadata": {},
     "output_type": "execute_result"
    }
   ],
   "source": [
    "probs.shape"
   ]
  },
  {
   "cell_type": "markdown",
   "id": "c37d54dc",
   "metadata": {},
   "source": [
    "Every row of `probs` has sum of 1."
   ]
  },
  {
   "cell_type": "code",
   "execution_count": 22,
   "id": "b66ac2b2",
   "metadata": {},
   "outputs": [
    {
     "data": {
      "text/plain": [
       "tensor(1.)"
      ]
     },
     "execution_count": 22,
     "metadata": {},
     "output_type": "execute_result"
    }
   ],
   "source": [
    "probs[0].sum()"
   ]
  },
  {
   "cell_type": "markdown",
   "id": "4358f883",
   "metadata": {},
   "source": [
    "And this is the `probs` of each ground true `Y` in current output of the neural nets:"
   ]
  },
  {
   "cell_type": "code",
   "execution_count": 23,
   "id": "c2942e76",
   "metadata": {},
   "outputs": [
    {
     "data": {
      "text/plain": [
       "tensor([7.7495e-24, 2.1101e-40, 1.9229e-21, 1.4055e-38, 7.7326e-28, 1.3492e-08,\n",
       "        6.8267e-17, 1.4246e-24, 0.0000e+00, 1.4824e-30, 5.9416e-25, 2.6303e-27,\n",
       "        9.4385e-09, 1.0000e+00, 1.3632e-21, 2.2708e-16, 5.6390e-31, 2.6454e-24,\n",
       "        8.0710e-16, 4.0562e-25, 4.6443e-09, 5.1121e-03, 1.4884e-25, 7.8136e-33,\n",
       "        3.4907e-21, 1.6266e-19, 3.1967e-12, 4.7231e-16, 3.9659e-06, 5.4454e-22,\n",
       "        3.4041e-04, 2.8871e-16])"
      ]
     },
     "execution_count": 23,
     "metadata": {},
     "output_type": "execute_result"
    }
   ],
   "source": [
    "probs[torch.arange(32), Y]"
   ]
  },
  {
   "cell_type": "markdown",
   "id": "96ee574a",
   "metadata": {},
   "source": [
    "Result is not good as we've not trained the network yet!\n",
    "\n",
    "## implementing the negative log likelihood loss\n",
    "\n",
    "We define the negative log likelihood as:"
   ]
  },
  {
   "cell_type": "code",
   "execution_count": 24,
   "id": "eefdc73a",
   "metadata": {},
   "outputs": [
    {
     "data": {
      "text/plain": [
       "tensor(inf)"
      ]
     },
     "execution_count": 24,
     "metadata": {},
     "output_type": "execute_result"
    }
   ],
   "source": [
    "loss = - probs[torch.arange(32), Y].log().mean()\n",
    "loss"
   ]
  },
  {
   "cell_type": "markdown",
   "id": "60151c90",
   "metadata": {},
   "source": [
    "## summary of the full network\n",
    "\n",
    "Dataset:"
   ]
  },
  {
   "cell_type": "code",
   "execution_count": 25,
   "id": "95b96f70",
   "metadata": {},
   "outputs": [
    {
     "data": {
      "text/plain": [
       "(torch.Size([32, 3]), torch.Size([32]))"
      ]
     },
     "execution_count": 25,
     "metadata": {},
     "output_type": "execute_result"
    }
   ],
   "source": [
    "X.shape, Y.shape"
   ]
  },
  {
   "cell_type": "markdown",
   "id": "b4fb8945",
   "metadata": {},
   "source": [
    "Neural network layers:"
   ]
  },
  {
   "cell_type": "code",
   "execution_count": 26,
   "id": "32354769",
   "metadata": {},
   "outputs": [],
   "source": [
    "g = torch.Generator().manual_seed(2147483647)\n",
    "C = torch.randn((27, 2), generator=g)\n",
    "W1 = torch.randn((6, 100), generator=g)\n",
    "b1 = torch.randn(100, generator=g)\n",
    "W2 = torch.randn((100, 27), generator=g)\n",
    "b2 = torch.randn(27, generator=g)\n",
    "\n",
    "parameters = [C, W1, b1, W2, b2]"
   ]
  },
  {
   "cell_type": "markdown",
   "id": "ef4fcb4d",
   "metadata": {},
   "source": [
    "Size of the network:"
   ]
  },
  {
   "cell_type": "code",
   "execution_count": 27,
   "id": "cfbe750a",
   "metadata": {},
   "outputs": [
    {
     "data": {
      "text/plain": [
       "3481"
      ]
     },
     "execution_count": 27,
     "metadata": {},
     "output_type": "execute_result"
    }
   ],
   "source": [
    "sum(p.nelement() for p in parameters)"
   ]
  },
  {
   "cell_type": "markdown",
   "id": "7665582b",
   "metadata": {},
   "source": [
    "Constructing forward pass:"
   ]
  },
  {
   "cell_type": "code",
   "execution_count": 28,
   "id": "3ee370fe",
   "metadata": {},
   "outputs": [
    {
     "data": {
      "text/plain": [
       "tensor(17.7697)"
      ]
     },
     "execution_count": 28,
     "metadata": {},
     "output_type": "execute_result"
    }
   ],
   "source": [
    "emb = C[X] # (32, 3, 2)\n",
    "h = torch.tanh(emb.view(-1, 6) @ W1 + b1) # (32, 100)\n",
    "logits = h @ W2 + b2 # (32, 27)\n",
    "counts = logits.exp()\n",
    "probs = counts / counts.sum(1, keepdims=True)\n",
    "loss = - probs[torch.arange(32), Y].log().mean()\n",
    "loss"
   ]
  },
  {
   "cell_type": "markdown",
   "id": "a699e570",
   "metadata": {},
   "source": [
    "# PART 2: intro to many basics of machine learning\n",
    "\n",
    "## introducing `F.cross_entropy` and why\n",
    "\n",
    "We re-define loss:"
   ]
  },
  {
   "cell_type": "code",
   "execution_count": 29,
   "id": "38fc8784",
   "metadata": {},
   "outputs": [
    {
     "data": {
      "text/plain": [
       "tensor(17.7697)"
      ]
     },
     "execution_count": 29,
     "metadata": {},
     "output_type": "execute_result"
    }
   ],
   "source": [
    "loss = F.cross_entropy(logits, Y)\n",
    "loss"
   ]
  },
  {
   "cell_type": "markdown",
   "id": "b768bc40",
   "metadata": {},
   "source": [
    "Why?\n",
    "\n",
    "-   Pytorch will create more intermediate tensor for every assignment: `counts`, `probs` -\\> more memory;\n",
    "-   Backward pass will be more optimized, because the expressions are much analytically and mathematically interpreted;\n",
    "-   Cross entropy can be significantly & numerically well behaved (for eg when we exponentiate a large positive number we got inf, PyTorch cross entropy will calculate the max of set and subtract it - which will not impact the exp result)\n",
    "\n",
    "## implementing the training loop, overfitting one batch\n",
    "\n",
    "So the forward pass, backward pass, and update loop will be implemented as below:"
   ]
  },
  {
   "cell_type": "code",
   "execution_count": 30,
   "id": "1fd8c616",
   "metadata": {},
   "outputs": [],
   "source": [
    "for p in parameters:\n",
    "    p.requires_grad = True"
   ]
  },
  {
   "cell_type": "code",
   "execution_count": 31,
   "id": "34db7cd2",
   "metadata": {},
   "outputs": [
    {
     "name": "stdout",
     "output_type": "stream",
     "text": [
      "17.76971435546875\n",
      "13.656400680541992\n",
      "11.298768997192383\n",
      "9.452457427978516\n",
      "7.984262466430664\n",
      "6.891322135925293\n",
      "6.100014686584473\n",
      "5.452037334442139\n",
      "4.8981523513793945\n",
      "4.414664268493652\n",
      "4.414664268493652\n"
     ]
    }
   ],
   "source": [
    "for _ in range(10):\n",
    "    # forward pass:\n",
    "    emb = C[X] # (32, 3, 2)\n",
    "    h = torch.tanh(emb.view(-1, 6) @ W1 + b1) # (32, 100)\n",
    "    logits = h @ W2 + b2 # (32, 27)\n",
    "    loss = F.cross_entropy(logits, Y)\n",
    "    print(loss.item())\n",
    "    # backward pass:\n",
    "    for p in parameters:\n",
    "        p.grad = None\n",
    "    loss.backward()\n",
    "    # update\n",
    "    for p in parameters:\n",
    "        p.data += -0.1 * p.grad\n",
    "\n",
    "print(loss.item())"
   ]
  },
  {
   "cell_type": "markdown",
   "id": "3461e547",
   "metadata": {},
   "source": [
    "We are fitting 32 examples to a neural nets of 3481 params, so it's super easy to be overfitting. We got a low final loss, but it would never be 0, because the output can varry for the same input, for eg, `...`."
   ]
  },
  {
   "cell_type": "code",
   "execution_count": 32,
   "id": "8d19407c",
   "metadata": {},
   "outputs": [
    {
     "data": {
      "text/plain": [
       "torch.return_types.max(\n",
       "values=tensor([10.7865, 12.2558, 17.3982, 13.2739, 10.6965, 10.7865,  9.5145,  9.0495,\n",
       "        14.0280, 11.8378,  9.9038, 15.4187, 10.7865, 10.1476,  9.8372, 11.7660,\n",
       "        10.7865, 10.0029,  9.2940,  9.6824, 11.4241,  9.4885,  8.1164,  9.5176,\n",
       "        12.6383, 10.7865, 10.6021, 11.0822,  6.3617, 17.3157, 12.4544,  8.1669],\n",
       "       grad_fn=<MaxBackward0>),\n",
       "indices=tensor([ 1,  8,  9,  0, 15,  1, 17,  2,  9,  9,  2,  0,  1, 15,  1,  0,  1, 19,\n",
       "         1,  1, 16, 10, 26,  9,  0,  1, 15, 16,  3,  9, 19,  1]))"
      ]
     },
     "execution_count": 32,
     "metadata": {},
     "output_type": "execute_result"
    }
   ],
   "source": [
    "logits.max(1)"
   ]
  },
  {
   "cell_type": "markdown",
   "id": "56c44ccd",
   "metadata": {},
   "source": [
    "## training on the full dataset, minibatches\n",
    "\n",
    "We can deploy our code to all the dataset, un-fold the below code block to see full code."
   ]
  },
  {
   "cell_type": "code",
   "execution_count": 33,
   "id": "32f1e9ab",
   "metadata": {},
   "outputs": [
    {
     "name": "stdout",
     "output_type": "stream",
     "text": [
      "Data size torch.Size([228146, 3]) torch.Size([228146])\n",
      "No of params:  3481\n"
     ]
    }
   ],
   "source": [
    "#| code-fold: true\n",
    "block_size = 3\n",
    "X, Y = [], []\n",
    "\n",
    "# Dataset\n",
    "for w in words:\n",
    "    # print(w)\n",
    "    context = [0] * block_size\n",
    "    for ch in w + '.':\n",
    "        ix = stoi[ch]\n",
    "        X.append(context)\n",
    "        Y.append(ix)\n",
    "        # print(''.join(itos[i] for i in context), '----->', itos[ix] )\n",
    "        context = context[1:] + [ix] # rolling to the next one\n",
    "\n",
    "# Input and ground true\n",
    "X = torch.tensor(X)\n",
    "Y = torch.tensor(Y)\n",
    "print(\"Data size\", X.shape, Y.shape)\n",
    "\n",
    "# Lookup table\n",
    "g = torch.Generator().manual_seed(2147483647)\n",
    "C = torch.randn((27, 2), generator=g)\n",
    "emb = C[X] # (32, 3, 2)\n",
    "\n",
    "# Layer 1 - tanh\n",
    "W1 = torch.randn((6, 100), generator=g)\n",
    "b1 = torch.randn(100, generator=g)\n",
    "h = torch.tanh(emb.view(-1, 6) @ W1 + b1) # (32, 100)\n",
    "\n",
    "# Layer 2 - softmax\n",
    "W2 = torch.randn((100, 27), generator=g)\n",
    "b2 = torch.randn(27, generator=g)\n",
    "logits = h @ W2 + b2 # (32, 27)\n",
    "loss = F.cross_entropy(logits, Y)\n",
    "\n",
    "# All params\n",
    "parameters = [C, W1, b1, W2, b2]\n",
    "print(\"No of params: \", sum(p.nelement() for p in parameters))\n",
    "\n",
    "# Pre-training\n",
    "for p in parameters:\n",
    "    p.requires_grad = True"
   ]
  },
  {
   "cell_type": "markdown",
   "id": "113a3a02",
   "metadata": {},
   "source": [
    "We notice that it takes a bit long time for each training in the loop. In practice, we will perform the forward/backward passes and update parameters for a small batch of the dataset. The minibatch construction is added/modified for lines of code with `#👈`.\n",
    "\n",
    "Read more: <https://nttuan8.com/bai-10-cac-ky-thuat-co-ban-trong-deep-learning/>"
   ]
  },
  {
   "cell_type": "code",
   "execution_count": 34,
   "id": "388b7612",
   "metadata": {},
   "outputs": [
    {
     "name": "stdout",
     "output_type": "stream",
     "text": [
      "___after running 9990 time:  2.3768792152404785\n",
      "___after running 9991 time:  2.564436674118042\n",
      "___after running 9992 time:  2.846893072128296\n",
      "___after running 9993 time:  2.2700717449188232\n",
      "___after running 9994 time:  2.2295260429382324\n",
      "___after running 9995 time:  2.666769027709961\n",
      "___after running 9996 time:  2.533034563064575\n",
      "___after running 9997 time:  2.532731533050537\n",
      "___after running 9998 time:  2.407710313796997\n",
      "___after running 9999 time:  2.1771175861358643\n",
      "final minibatch loss:  2.1771175861358643\n"
     ]
    }
   ],
   "source": [
    "# Training\n",
    "for _ in range(10000):\n",
    "    # minibatch construct                                           #👈\n",
    "    ix = torch.randint(0, X.shape[0], (32,))                        #👈\n",
    "\n",
    "    # forward pass:\n",
    "    emb = C[X[ix]] # (32, 3, 2)                                     #👈\n",
    "    h = torch.tanh(emb.view(-1, 6) @ W1 + b1) # (32, 100)\n",
    "    logits = h @ W2 + b2 # (32, 27)\n",
    "    loss = F.cross_entropy(logits, Y[ix])                           #👈\n",
    "    if _ >= 9990: print(f\"___after running {_} time: \", loss.item())\n",
    "    # backward pass:\n",
    "    for p in parameters:\n",
    "        p.grad = None\n",
    "    loss.backward()\n",
    "    # update\n",
    "    for p in parameters:\n",
    "        p.data += -0.1 * p.grad\n",
    "\n",
    "print(\"final minibatch loss: \", loss.item())"
   ]
  },
  {
   "cell_type": "markdown",
   "id": "635fd11f",
   "metadata": {},
   "source": [
    "The `loss` decrease much much better, although the direction of gradient might be not correct direction. But it is good enough for an approximation. Notice the loss for a minibatch is not the loss of whole dataset."
   ]
  },
  {
   "cell_type": "code",
   "execution_count": 35,
   "id": "9ea415e2",
   "metadata": {},
   "outputs": [
    {
     "data": {
      "text/plain": [
       "2.4769210815429688"
      ]
     },
     "execution_count": 35,
     "metadata": {},
     "output_type": "execute_result"
    }
   ],
   "source": [
    "emb = C[X] # (32, 3, 2)                                    \n",
    "h = torch.tanh(emb.view(-1, 6) @ W1 + b1) # (32, 100)\n",
    "logits = h @ W2 + b2 # (32, 27)\n",
    "loss = F.cross_entropy(logits, Y)   \n",
    "loss.item()"
   ]
  },
  {
   "cell_type": "markdown",
   "id": "c28413fd",
   "metadata": {},
   "source": [
    "We archived 2.39 loss for final minibatch and 2.5 on overall network.\n",
    "\n",
    "## finding a good initial learning rate\n",
    "\n",
    "Now we're continuing the optimization, let's focus on how much we update the data from the gradient `p.data += -0.1 * p.grad`. We do not know if we step too little or too much.\n",
    "\n",
    "We can create 1000 learning rates to use along with the training loop and see which one offers more stable convergence."
   ]
  },
  {
   "cell_type": "code",
   "execution_count": 36,
   "id": "ad9a37b1",
   "metadata": {},
   "outputs": [],
   "source": [
    "lre = torch.linspace(-3, 0, 1000)\n",
    "lrs = 10**lre"
   ]
  },
  {
   "cell_type": "markdown",
   "id": "8d23df78",
   "metadata": {},
   "source": [
    "Reset the code:"
   ]
  },
  {
   "cell_type": "code",
   "execution_count": 37,
   "id": "360af1ca",
   "metadata": {},
   "outputs": [
    {
     "name": "stdout",
     "output_type": "stream",
     "text": [
      "Data size torch.Size([228146, 3]) torch.Size([228146])\n",
      "No of params:  3481\n"
     ]
    }
   ],
   "source": [
    "#| code-fold: true\n",
    "block_size = 3\n",
    "X, Y = [], []\n",
    "\n",
    "# Dataset\n",
    "for w in words:\n",
    "    # print(w)\n",
    "    context = [0] * block_size\n",
    "    for ch in w + '.':\n",
    "        ix = stoi[ch]\n",
    "        X.append(context)\n",
    "        Y.append(ix)\n",
    "        # print(''.join(itos[i] for i in context), '----->', itos[ix] )\n",
    "        context = context[1:] + [ix] # rolling to the next one\n",
    "\n",
    "# Input and ground true\n",
    "X = torch.tensor(X)\n",
    "Y = torch.tensor(Y)\n",
    "print(\"Data size\", X.shape, Y.shape)\n",
    "\n",
    "# Lookup table\n",
    "g = torch.Generator().manual_seed(2147483647)\n",
    "C = torch.randn((27, 2), generator=g)\n",
    "emb = C[X] # (32, 3, 2)\n",
    "\n",
    "# Layer 1 - tanh\n",
    "W1 = torch.randn((6, 100), generator=g)\n",
    "b1 = torch.randn(100, generator=g)\n",
    "h = torch.tanh(emb.view(-1, 6) @ W1 + b1) # (32, 100)\n",
    "\n",
    "# Layer 2 - softmax\n",
    "W2 = torch.randn((100, 27), generator=g)\n",
    "b2 = torch.randn(27, generator=g)\n",
    "logits = h @ W2 + b2 # (32, 27)\n",
    "loss = F.cross_entropy(logits, Y)\n",
    "\n",
    "# All params\n",
    "parameters = [C, W1, b1, W2, b2]\n",
    "print(\"No of params: \", sum(p.nelement() for p in parameters))\n",
    "\n",
    "# Pre-training\n",
    "for p in parameters:\n",
    "    p.requires_grad = True"
   ]
  },
  {
   "cell_type": "markdown",
   "id": "5a311f00",
   "metadata": {},
   "source": [
    "Training and tracking stats:"
   ]
  },
  {
   "cell_type": "code",
   "execution_count": 38,
   "id": "a14728be",
   "metadata": {},
   "outputs": [
    {
     "data": {
      "text/plain": [
       "4.555257797241211"
      ]
     },
     "execution_count": 38,
     "metadata": {},
     "output_type": "execute_result"
    }
   ],
   "source": [
    "lri = []\n",
    "lossi = []\n",
    "\n",
    "for i in range(1000):\n",
    "    # minibatch construct                                           \n",
    "    ix = torch.randint(0, X.shape[0], (32,))                        \n",
    "    # forward pass:\n",
    "    emb = C[X[ix]] # (32, 3, 2)                                    \n",
    "    h = torch.tanh(emb.view(-1, 6) @ W1 + b1) # (32, 100)\n",
    "    logits = h @ W2 + b2 # (32, 27)\n",
    "    loss = F.cross_entropy(logits, Y[ix])                           \n",
    "    # backward pass:\n",
    "    for p in parameters:\n",
    "        p.grad = None\n",
    "    loss.backward()\n",
    "    # update\n",
    "    lr = lrs[i]\n",
    "    for p in parameters:\n",
    "        p.data += - lr * p.grad\n",
    "\n",
    "    # track stats\n",
    "    lri.append(lre[i])\n",
    "    lossi.append(loss.item())\n",
    "\n",
    "loss.item()"
   ]
  },
  {
   "cell_type": "markdown",
   "id": "5f47dbff",
   "metadata": {},
   "source": [
    "Plotting, we see a good exponential element of learning rate turn out to be around `-1`.\n",
    "\n",
    "$10^{-1}$ is `0.1` so our initial guess seems good."
   ]
  },
  {
   "cell_type": "code",
   "execution_count": null,
   "id": "dffde956",
   "metadata": {},
   "outputs": [],
   "source": [
    "import numpy as np\n",
    "\n",
    "plt.plot(lri, lossi)"
   ]
  },
  {
   "cell_type": "markdown",
   "id": "079be130",
   "metadata": {},
   "source": [
    "## splitting up the dataset into train/val/test splits and why\n",
    "\n",
    "Now we can keep lengthening the training loop to continue decreasing loss. We can try some techniques like change the learning rate to `0.001` after 20k, 30k loops of training with `0.1`.\n",
    "\n",
    "But it will come to be overfitting when we try to keep training or increase the size of network to achieve a lower loss. The model just memorizing our training set verbatim, so if we try to sample from the model it just gives us the same thing in the dataset. Or if we calculate the loss on another dataset, it might be very high.\n",
    "\n",
    "So another industry standard is we will split the data set into 3 pieces: (1) training set; (2) dev/validation set; and (3) test set, they can be 80% - 10% - 10% roughly and respectively.\n",
    "\n",
    "1.  Training split: train the parameters;\n",
    "2.  Dev/validation split: train the hyperparamerters (size of hidden layer, size of embedding, streng of regularization, etc);\n",
    "3.  Test split: evaluate the performance of the model at the end, we only work on this a very very few times, otherwise we learn from it and repeat overfitting.\n",
    "\n",
    "We are going to implement this train/dev/test splits:"
   ]
  },
  {
   "cell_type": "code",
   "execution_count": 43,
   "id": "1dba9520",
   "metadata": {},
   "outputs": [
    {
     "name": "stdout",
     "output_type": "stream",
     "text": [
      "torch.Size([182625, 3]) torch.Size([182625])\n",
      "torch.Size([22655, 3]) torch.Size([22655])\n",
      "torch.Size([22866, 3]) torch.Size([22866])\n"
     ]
    }
   ],
   "source": [
    "# build the dataset\n",
    "def buid_dataset(words):\n",
    "    block_size = 3\n",
    "    X, Y = [], []\n",
    "\n",
    "    for w in words:\n",
    "        context = [0] * block_size\n",
    "        for ch in w + '.':\n",
    "            ix = stoi[ch]\n",
    "            X.append(context)\n",
    "            Y.append(ix)\n",
    "            context = context[1:] + [ix]\n",
    "\n",
    "    X = torch.tensor(X)\n",
    "    Y = torch.tensor(Y)\n",
    "    print(X.shape, Y.shape)\n",
    "    return X, Y\n",
    "\n",
    "import random\n",
    "random.seed(42)\n",
    "random.shuffle(words)\n",
    "n1 = int(0.8 * len(words))\n",
    "n2 = int(0.9 * len(words))\n",
    "\n",
    "Xtr, Ytr = buid_dataset(words[:n1])\n",
    "Xdev, Ydev = buid_dataset(words[n1:n2])\n",
    "Xte, Yte = buid_dataset(words[n2:])"
   ]
  },
  {
   "cell_type": "markdown",
   "id": "eb75ba7c",
   "metadata": {},
   "source": [
    "Now we're already to train on splits of the dataset, but let's hold on as we are talking abount overfitting. As discussed, overfitting also come from using a complex (too many parameters) for a small data set.\n",
    "\n",
    "Our dataset has roughly 228k records, while the size of network is only 3.4k. So we are still underfitting, let's continue to complexify our neural networks.\n",
    "\n",
    "2 things to consider here:\n",
    "\n",
    "-   the size of tanh - hidden layer; and\n",
    "-   dimensions of embedding space.\n",
    "\n",
    "## visualizing the loss, character embeddings\n",
    "\n",
    "First we want to see: - how the loss decrease with 200k training loop with current network setting, learning rate decay to 0.01 after first 100k; and - how the current character embeddings recognize the similarity between characters in (2D) space.\n",
    "\n",
    "Training on the `Xtr`, `Ytr`:"
   ]
  },
  {
   "cell_type": "code",
   "execution_count": 44,
   "id": "a79202a1",
   "metadata": {},
   "outputs": [
    {
     "name": "stdout",
     "output_type": "stream",
     "text": [
      "No of params:  3481\n",
      "Loss on minibatch:  2.496250629425049\n"
     ]
    }
   ],
   "source": [
    "# Lookup table\n",
    "g = torch.Generator().manual_seed(2147483647)\n",
    "C = torch.randn((27, 2), generator=g)\n",
    "\n",
    "# Layer 1 - tanh\n",
    "W1 = torch.randn((6, 100), generator=g)\n",
    "b1 = torch.randn(100, generator=g)\n",
    "\n",
    "# Layer 2 - softmax\n",
    "W2 = torch.randn((100, 27), generator=g)\n",
    "b2 = torch.randn(27, generator=g)\n",
    "\n",
    "# All params\n",
    "parameters = [C, W1, b1, W2, b2]\n",
    "print(\"No of params: \", sum(p.nelement() for p in parameters))\n",
    "\n",
    "# Pre-training\n",
    "for p in parameters:\n",
    "    p.requires_grad = True\n",
    "\n",
    "# Stats holders\n",
    "lossi = []\n",
    "stepi = []\n",
    "\n",
    "# Training on Xtr, Ytr\n",
    "for i in range(200_000):\n",
    "    # minibatch construct                                           \n",
    "    ix = torch.randint(0, Xtr.shape[0], (32,))                       #👈\n",
    "    # forward pass:\n",
    "    emb = C[Xtr[ix]] # (32, 3, 2)                                    #👈\n",
    "    h = torch.tanh(emb.view(-1, 6) @ W1 + b1) # (32, 100)\n",
    "    logits = h @ W2 + b2 # (32, 27)\n",
    "    loss = F.cross_entropy(logits, Ytr[ix])                          #👈\n",
    "    # backward pass:\n",
    "    for p in parameters:\n",
    "        p.grad = None\n",
    "    loss.backward()\n",
    "    # update\n",
    "    lr = 0.1 if i <= 100_000 else 0.01                                #👈\n",
    "    for p in parameters:\n",
    "        p.data += - lr * p.grad\n",
    "\n",
    "    # track stats\n",
    "    lossi.append(loss.item())\n",
    "    stepi.append(i)\n",
    "\n",
    "print(\"Loss on minibatch: \", loss.item())"
   ]
  },
  {
   "cell_type": "markdown",
   "id": "4a146dca",
   "metadata": {},
   "source": [
    "Loss on whole training dataset:"
   ]
  },
  {
   "cell_type": "code",
   "execution_count": 45,
   "id": "69df2365",
   "metadata": {},
   "outputs": [
    {
     "data": {
      "text/plain": [
       "2.2407655715942383"
      ]
     },
     "execution_count": 45,
     "metadata": {},
     "output_type": "execute_result"
    }
   ],
   "source": [
    "emb = C[Xtr] # (32, 3, 2)                                    \n",
    "h = torch.tanh(emb.view(-1, 6) @ W1 + b1) # (32, 100)\n",
    "logits = h @ W2 + b2 # (32, 27)\n",
    "loss = F.cross_entropy(logits, Ytr)   \n",
    "loss.item()"
   ]
  },
  {
   "cell_type": "markdown",
   "id": "fcea5be5",
   "metadata": {},
   "source": [
    "Loss on dev/validation dataset, it's not much different from loss on training as the model is still underfitting, it still generalizes thing:"
   ]
  },
  {
   "cell_type": "code",
   "execution_count": 46,
   "id": "0349a2e0",
   "metadata": {},
   "outputs": [
    {
     "data": {
      "text/plain": [
       "2.2448830604553223"
      ]
     },
     "execution_count": 46,
     "metadata": {},
     "output_type": "execute_result"
    }
   ],
   "source": [
    "emb = C[Xdev] # (32, 3, 2)                                    \n",
    "h = torch.tanh(emb.view(-1, 6) @ W1 + b1) # (32, 100)\n",
    "logits = h @ W2 + b2 # (32, 27)\n",
    "loss = F.cross_entropy(logits, Ydev)   \n",
    "loss.item()"
   ]
  },
  {
   "cell_type": "markdown",
   "id": "3e14f4f0",
   "metadata": {},
   "source": [
    "Visualizing loss, we can see the loss shaking significantly as the batch size still small - 32."
   ]
  },
  {
   "cell_type": "code",
   "execution_count": 47,
   "id": "2f6daf94",
   "metadata": {},
   "outputs": [
    {
     "data": {
      "text/plain": [
       "[<matplotlib.lines.Line2D at 0x272cdbba8d0>]"
      ]
     },
     "execution_count": 47,
     "metadata": {},
     "output_type": "execute_result"
    },
    {
     "data": {
      "image/png": "[encoded data removed]",
      "text/plain": [
       "<Figure size 640x480 with 1 Axes>"
      ]
     },
     "metadata": {},
     "output_type": "display_data"
    }
   ],
   "source": [
    "plt.plot(stepi, lossi)"
   ]
  },
  {
   "cell_type": "markdown",
   "id": "a794f61a",
   "metadata": {},
   "source": [
    "Visualizing the character embeddings, we can see the model can cluster for eg. vowels a, e, i, o, u."
   ]
  },
  {
   "cell_type": "code",
   "execution_count": null,
   "id": "fbb37a8c",
   "metadata": {},
   "outputs": [],
   "source": [
    "plt.figure(figsize=(8,8))\n",
    "plt.scatter(C[:,0].data, C[:, 1].data, s=200)\n",
    "for i in range(C.shape[0]):\n",
    "    plt.text(C[i,0].item(),C[i,1].item(), itos[i], ha=\"center\", va=\"center\", color=\"white\")\n",
    "plt.grid('minor')"
   ]
  },
  {
   "cell_type": "markdown",
   "id": "1667c6a0",
   "metadata": {},
   "source": [
    "## experiment: larger hidden layer, larger embedding size\n",
    "\n",
    "Now we can experiment a larger hidden layer (300), and larger embedding_size (10). Below is the whole code:"
   ]
  },
  {
   "cell_type": "code",
   "execution_count": 49,
   "id": "0041d15b",
   "metadata": {},
   "outputs": [
    {
     "name": "stdout",
     "output_type": "stream",
     "text": [
      "torch.Size([182580, 3]) torch.Size([182580])\n",
      "torch.Size([22767, 3]) torch.Size([22767])\n",
      "torch.Size([22799, 3]) torch.Size([22799])\n",
      "No of params:  17697\n",
      "Loss on minibatch:  2.3133604526519775\n"
     ]
    }
   ],
   "source": [
    "#| code-fold: true\n",
    "\n",
    "# hyper-parameters\n",
    "block_size = 3 # number of chracters / inputs to predict the nextone\n",
    "no_chars = 27 # number of possible chracters, include '.'\n",
    "emb_size = 10 # no of dimensions of the embedding space.\n",
    "hidden_size = 300 # size of the hidden - tanh layer\n",
    "batch_size = 32 # minibatch size for training, 2, 4, 8, 16, 32, 64, etc\n",
    "\n",
    "# build the dataset\n",
    "def buid_dataset(words):\n",
    "\n",
    "    X, Y = [], []\n",
    "\n",
    "    for w in words:\n",
    "        context = [0] * block_size\n",
    "        for ch in w + '.':\n",
    "            ix = stoi[ch]\n",
    "            X.append(context)\n",
    "            Y.append(ix)\n",
    "            context = context[1:] + [ix]\n",
    "\n",
    "    X = torch.tensor(X)\n",
    "    Y = torch.tensor(Y)\n",
    "    print(X.shape, Y.shape)\n",
    "    return X, Y\n",
    "\n",
    "import random\n",
    "random.seed(42)\n",
    "random.shuffle(words)\n",
    "n1 = int(0.8 * len(words))\n",
    "n2 = int(0.9 * len(words))\n",
    "\n",
    "# 80 - 10 - 10 splits\n",
    "Xtr, Ytr = buid_dataset(words[:n1])\n",
    "Xdev, Ydev = buid_dataset(words[n1:n2])\n",
    "Xte, Yte = buid_dataset(words[n2:])\n",
    "\n",
    "# Lookup table - 10 dimensional space\n",
    "g = torch.Generator().manual_seed(2147483647) # for reproductivity\n",
    "C = torch.randn((no_chars, emb_size), generator=g)\n",
    "\n",
    "# Layer 1 - tanh - 300 neurons\n",
    "W1 = torch.randn((block_size * emb_size, hidden_size), generator=g)\n",
    "b1 = torch.randn(hidden_size, generator=g)\n",
    "\n",
    "# Layer 2 - softmax\n",
    "W2 = torch.randn((hidden_size, no_chars), generator=g)\n",
    "b2 = torch.randn(no_chars, generator=g)\n",
    "\n",
    "# All params\n",
    "parameters = [C, W1, b1, W2, b2]\n",
    "print(\"No of params: \", sum(p.nelement() for p in parameters))\n",
    "\n",
    "# Pre-training\n",
    "for p in parameters:\n",
    "    p.requires_grad = True\n",
    "\n",
    "# Stats holders\n",
    "lossi = []\n",
    "stepi = []\n",
    "\n",
    "# Training on Xtr, Ytr\n",
    "for i in range(200_000):\n",
    "    # minibatch construct                                           \n",
    "    ix = torch.randint(0, Xtr.shape[0], (batch_size,))                      \n",
    "    # forward pass:\n",
    "    emb = C[Xtr[ix]]                                                \n",
    "    h = torch.tanh(emb.view(-1, block_size * emb_size) @ W1 + b1)\n",
    "    logits = h @ W2 + b2\n",
    "    loss = F.cross_entropy(logits, Ytr[ix]) \n",
    "    # backward pass:\n",
    "    for p in parameters:\n",
    "        p.grad = None\n",
    "    loss.backward()\n",
    "    # update\n",
    "    lr = 0.1 if i <= 100_000 else 0.01 \n",
    "    for p in parameters:\n",
    "        p.data += - lr * p.grad\n",
    "\n",
    "    # track stats\n",
    "    lossi.append(loss.item())\n",
    "    stepi.append(i)\n",
    "\n",
    "print(\"Loss on minibatch: \", loss.item())"
   ]
  },
  {
   "cell_type": "code",
   "execution_count": 50,
   "id": "b8ffa233",
   "metadata": {},
   "outputs": [
    {
     "name": "stdout",
     "output_type": "stream",
     "text": [
      "Loss on whole training set:  2.107422351837158\n",
      "Loss on dev/validation set:  2.167262315750122\n",
      "Loss on test set:  2.1728055477142334\n"
     ]
    }
   ],
   "source": [
    "emb = C[Xtr]                                 \n",
    "h = torch.tanh(emb.view(-1, block_size * emb_size) @ W1 + b1)\n",
    "logits = h @ W2 + b2\n",
    "loss = F.cross_entropy(logits, Ytr)   \n",
    "print(\"Loss on whole training set: \", loss.item())\n",
    "\n",
    "emb = C[Xdev]                                \n",
    "h = torch.tanh(emb.view(-1, block_size * emb_size) @ W1 + b1)\n",
    "logits = h @ W2 + b2\n",
    "loss = F.cross_entropy(logits, Ydev)   \n",
    "print(\"Loss on dev/validation set: \", loss.item())\n",
    "\n",
    "emb = C[Xte]                                \n",
    "h = torch.tanh(emb.view(-1, block_size * emb_size) @ W1 + b1)\n",
    "logits = h @ W2 + b2\n",
    "loss = F.cross_entropy(logits, Yte)   \n",
    "print(\"Loss on test set: \", loss.item())"
   ]
  },
  {
   "cell_type": "markdown",
   "id": "82eac196",
   "metadata": {},
   "source": [
    "## summary of our final code, conclusion"
   ]
  },
  {
   "cell_type": "code",
   "execution_count": 51,
   "id": "4b8de3ac",
   "metadata": {},
   "outputs": [
    {
     "data": {
      "text/plain": [
       "[<matplotlib.lines.Line2D at 0x272d25f31d0>]"
      ]
     },
     "execution_count": 51,
     "metadata": {},
     "output_type": "execute_result"
    },
    {
     "data": {
      "image/png": "[encoded data removed]",
      "text/plain": [
       "<Figure size 640x480 with 1 Axes>"
      ]
     },
     "metadata": {},
     "output_type": "display_data"
    }
   ],
   "source": [
    "plt.plot(stepi, lossi)"
   ]
  },
  {
   "cell_type": "code",
   "execution_count": null,
   "id": "892c3ec4",
   "metadata": {},
   "outputs": [],
   "source": [
    "plt.figure(figsize=(8,8))\n",
    "plt.scatter(C[:,0].data, C[:, 1].data, s=200)\n",
    "for i in range(C.shape[0]):\n",
    "    plt.text(C[i,0].item(),C[i,1].item(), itos[i], ha=\"center\", va=\"center\", color=\"white\")\n",
    "plt.grid('minor')"
   ]
  },
  {
   "cell_type": "markdown",
   "id": "2f5c9730",
   "metadata": {},
   "source": [
    "We can see the loss on validation set and test set are quite similar as we are not try different scenarios to calibrate/tune hyperparamters much. So they both have the same suprise to the model training by `Xtr`.\n",
    "\n",
    "We still have rooms for improvement!\n",
    "\n",
    "## sampling from the model\n",
    "\n",
    "But our networks now can generate more name-like name!"
   ]
  },
  {
   "cell_type": "code",
   "execution_count": 52,
   "id": "a0629de6",
   "metadata": {},
   "outputs": [
    {
     "name": "stdout",
     "output_type": "stream",
     "text": [
      "mon.\n",
      "ammy.\n",
      "zhiee.\n",
      "mel.\n",
      "ryla.\n",
      "rethan.\n",
      "brerlee.\n",
      "adeendielin.\n",
      "shi.\n",
      "jen.\n",
      "eden.\n",
      "esmanaraelynn.\n",
      "hokelin.\n",
      "shur.\n",
      "rishiriel.\n",
      "jenie.\n",
      "jeniquetton.\n",
      "kubakynder.\n",
      "yaruemeli.\n",
      "kay.\n"
     ]
    }
   ],
   "source": [
    "g = torch.Generator().manual_seed(2147483647 + 10)\n",
    "\n",
    "for _ in range(20):\n",
    "    \n",
    "    out = []\n",
    "    context = [0] * block_size # initialize with all ...\n",
    "    while True:\n",
    "      emb = C[torch.tensor([context])] # (1,block_size,d)\n",
    "      h = torch.tanh(emb.view(1, -1) @ W1 + b1)\n",
    "      logits = h @ W2 + b2\n",
    "      probs = F.softmax(logits, dim=1)\n",
    "      ix = torch.multinomial(probs, num_samples=1, generator=g).item()\n",
    "      context = context[1:] + [ix]\n",
    "      out.append(ix)\n",
    "      if ix == 0:\n",
    "        break\n",
    "    \n",
    "    print(''.join(itos[i] for i in out))"
   ]
  },
  {
   "cell_type": "markdown",
   "id": "f5180fd5",
   "metadata": {},
   "source": [
    "## google collab (new!!) notebook advertisement\n",
    "\n",
    "Colab link: <https://colab.research.google.com/drive/1YIfmkftLrz6MPTOO9Vwqrop2Q5llHIGK?usp=sharing>\n",
    "\n",
    "Thanks Andrej!\n",
    "\n",
    "# resources\n",
    "\n",
    "1.  [**A Neural Probabilistic Language Model**, Bengio et al. (2003)](https://www.jmlr.org/papers/volume3/bengio03a/bengio03a.pdf)\n",
    "2.  [Video lecturer](https://www.youtube.com/watch?v=TCH_1BHY58I)\n",
    "3.  [Notebook](https://github.com/karpathy/nn-zero-to-hero/blob/master/lectures/makemore/makemore_part2_mlp.ipynb)\n",
    "4.  [`makemore` on Github](https://github.com/karpathy/makemore)\n",
    "5.  [`torch.Tensor()` documentation](https://pytorch.org/docs/main/tensors.html)"
   ]
  }
 ],
 "metadata": {
  "kernelspec": {
   "display_name": ".venv",
   "language": "python",
   "name": "python3"
  },
  "language_info": {
   "codemirror_mode": {
    "name": "ipython",
    "version": 3
   },
   "file_extension": ".py",
   "mimetype": "text/x-python",
   "name": "python",
   "nbconvert_exporter": "python",
   "pygments_lexer": "ipython3",
   "version": "3.11.4"
  }
 },
 "nbformat": 4,
 "nbformat_minor": 5
}
