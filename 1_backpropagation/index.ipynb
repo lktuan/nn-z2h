{
  "cells": [
    {
      "cell_type": "raw",
      "metadata": {},
      "source": [
        "---\n",
        "title: \"NN-Z2H Lesson 1: The spelled-out intro to neural networks and backpropagation - building micrograd\"\n",
        "author: Tuan Le Khac\n",
        "date: 06-16-2024\n",
        "date-modified: 06-18-2024\n",
        "code-tools: true\n",
        "code-fold: show\n",
        "code-annotations: below\n",
        "\n",
        "format:\n",
        "  html:\n",
        "    theme: flatly\n",
        "    toc: true\n",
        "    toc-depth: 2\n",
        "    number-sections: true\n",
        "    colorlinks: true\n",
        "    code-overflow: wrap\n",
        "---"
      ],
      "id": "8e2d03a7"
    },
    {
      "cell_type": "markdown",
      "metadata": {},
      "source": [
        "**Upfront-note**: There are also greate resources in Vietnamese for learning Backpropagation, for e.g.:\n",
        "\n",
        "1. Blog [machinelearningcoban](https://machinelearningcoban.com/2017/02/24/mlp/)\n",
        "2. Blog [dominhhai](https://dominhhai.github.io/vi/2018/04/nn-bp/)\n",
        "\n",
        "# MicroGrad from scratch Yayy!\n",
        "\n",
        "[**🚀 MicroGrad repo**](https://github.com/karpathy/micrograd)\n",
        "[**🔥 Video Lecture**](https://www.youtube.com/watch?v=VMj-3S1tku0&list=PLAqhIrjkxbuWI23v9cThsA9GvCAUhRvKZ)\n",
        "\n",
        "::: {layout-ncol=1}\n",
        "![Backpropagation in Neural Networks, photo credit to [GeekforGeek](https://www.geeksforgeeks.org/backpropagation-in-neural-network/)](https://media.geeksforgeeks.org/wp-content/uploads/20240217152156/Frame-13.png){width=100%}\n",
        ":::\n",
        "\n",
        "## intro & micrograd overview - what does your neural network training look like under the hood?\n",
        "\n",
        "What is MicroGrad ❓: a tiny **auto-grad** (automatic gradient) engine, implement of **backpropagation** ~ itertively tune the weight of that nn to minimize the loss function -> improve the accuracy of the neural network. Backpropagation will be the mathematical core of any modern deep neutral network like, say `pytorch`, or `jaxx`.\n",
        "\n",
        "Installation: `pip install micrograd`\n",
        "\n",
        "Example:"
      ],
      "id": "c524238f"
    },
    {
      "cell_type": "code",
      "metadata": {},
      "source": [
        "from micrograd.engine import Value\n",
        "\n",
        "a = Value(-4.0)                                                                     # <1> \n",
        "b = Value(2.0)\n",
        "c = a + b\n",
        "d = a * b + b**3\n",
        "c += c + 1\n",
        "c += 1 + c + (-a)\n",
        "d += d * 2 + (b + a).relu()\n",
        "d += 3 * d + (b - a).relu()\n",
        "e = c - d\n",
        "f = e**2\n",
        "g = f / 2.0\n",
        "g += 10.0 / f                                                                       # <2>\n",
        "print(f'{g.data:.4f}') # prints 24.7041, the outcome of this forward pass           # <3>\n",
        "g.backward()\n",
        "print(f'{a.grad:.4f}') # prints 138.8338, i.e. the numerical value of dg/da         # <4>\n",
        "print(f'{b.grad:.4f}') # prints 645.5773, i.e. the numerical value of dg/db"
      ],
      "id": "00ad0b93",
      "execution_count": null,
      "outputs": []
    },
    {
      "cell_type": "markdown",
      "metadata": {},
      "source": [
        "1. Micrograd allows you to build mathematical expressions, in this case `a` and `b` are inputs, wrapped in `Value` object with value equal to `-4.0` and `2.0`, respectively.\n",
        "2. `a` and `b` are transformed to `c`, `d`, `e` and eventually `f`, `g`. Mathematical operators are implemented, like `+`, `*`, `**`, even `relu()`.\n",
        "3. `Value` object contains `data`, and `grad`.\n",
        "4. Call `backpropagation()` process.\n",
        "\n",
        "## derivative of a simple function with one input\n",
        "❓What exactly is derivative❓"
      ],
      "id": "4a7719a9"
    },
    {
      "cell_type": "code",
      "metadata": {},
      "source": [
        "import math\n",
        "import numpy as np\n",
        "import matplotlib.pyplot as plt\n",
        "%matplotlib inline"
      ],
      "id": "c21a4693",
      "execution_count": null,
      "outputs": []
    },
    {
      "cell_type": "markdown",
      "metadata": {},
      "source": [
        "A simple quadratic function:"
      ],
      "id": "7b683e8b"
    },
    {
      "cell_type": "code",
      "metadata": {},
      "source": [
        "def f(x):\n",
        "    return 3*x**2 - 4*x + 5"
      ],
      "id": "96ab77f1",
      "execution_count": null,
      "outputs": []
    },
    {
      "cell_type": "code",
      "metadata": {},
      "source": [
        "f(3.0)"
      ],
      "id": "e62a4904",
      "execution_count": null,
      "outputs": []
    },
    {
      "cell_type": "markdown",
      "metadata": {},
      "source": [
        "Input also can be an array, we can plot it for visibility."
      ],
      "id": "f33ab45f"
    },
    {
      "cell_type": "code",
      "metadata": {},
      "source": [
        "xs = np.arange(-5, 5, 0.25)\n",
        "ys = f(xs)\n",
        "plt.plot(xs, ys)"
      ],
      "id": "ccb76242",
      "execution_count": null,
      "outputs": []
    },
    {
      "cell_type": "markdown",
      "metadata": {},
      "source": [
        "If we bump up a litle value `h` of `x`, how `f(x)` will response?"
      ],
      "id": "5373b910"
    },
    {
      "cell_type": "code",
      "metadata": {},
      "source": [
        "h = 0.000000000001 # <1>\n",
        "x = 3.0\n",
        "( f(x+h) - f(x) ) / h"
      ],
      "id": "2d902c6d",
      "execution_count": null,
      "outputs": []
    },
    {
      "cell_type": "markdown",
      "metadata": {},
      "source": [
        "1. Change the value of `h` from `0.0001` to be `0.00000...0001` -> the slope value comes to `14` (at the value of `3.0` of `x`).\n",
        "\n",
        "Try for `x = -3.0`, `x = 5.0`, we get different values of the slope, for `x = 2/3`, the slope is zero. Let's get more complex.\n",
        "\n",
        "## derivative of a function with multiple inputs"
      ],
      "id": "592902d5"
    },
    {
      "cell_type": "code",
      "metadata": {},
      "source": [
        "a = 2.0\n",
        "b = -3.0\n",
        "c = 10.0\n",
        "d = a*b + c\n",
        "print(d)"
      ],
      "id": "807ac43c",
      "execution_count": null,
      "outputs": []
    },
    {
      "cell_type": "markdown",
      "metadata": {},
      "source": [
        "Put our bump-up element to this multi-variables function:"
      ],
      "id": "6fa53d37"
    },
    {
      "cell_type": "code",
      "metadata": {},
      "source": [
        "h = 0.001\n",
        "\n",
        "# input\n",
        "a = 2.0\n",
        "b = -3.0\n",
        "c = 10.0\n",
        "\n",
        "d1 = a*b + c\n",
        "a += h  # <1>\n",
        "d2 = a*b + c\n",
        "\n",
        "print('d1: ', d1)\n",
        "print('d2: ', d2)\n",
        "print('slope: ', (d2 - d1)/h) # <2>"
      ],
      "id": "4fbf15dc",
      "execution_count": null,
      "outputs": []
    },
    {
      "cell_type": "markdown",
      "metadata": {},
      "source": [
        "1. Do the same for `b`, `c`, we'll get different slopes.\n",
        "2. We say given `b = -3.0` and `c = 10.0` are constants, the derivative of `d` at `a = 2.0` is `-3.0`. The rate of which `d` will increase if we scale `a`!\n",
        "\n",
        "## starting the core `Value` object of micrograd and its visualization\n",
        "\n",
        "So we now have some intuitive sense of what is derivative is telling you about the function. We now move to the Neural Networks, which would be massive mathematical expressions. We need some data structures that maintain these expressions, we first declare an object `Value` that holds data."
      ],
      "id": "df7ab8f0"
    },
    {
      "cell_type": "code",
      "metadata": {},
      "source": [
        "class Value:\n",
        "    def __init__(self, data, \n",
        "                        _children=(), # <3>\n",
        "                        _op = '', # <5>\n",
        "                        label = ''\n",
        "                        ): \n",
        "        self.data = data\n",
        "        self.grad = 0.0 # <6>\n",
        "        self._backward = lambda: None # <7>\n",
        "        self._prev = set(_children)\n",
        "        self._op = _op\n",
        "        self.label =  label\n",
        "\n",
        "    def __repr__(self) -> str: # a nicer looking for class attributes\n",
        "        return f\"Value(data={self.data})\"\n",
        "    \n",
        "    def __add__(self, other): # <4>\n",
        "        other = other if isinstance(other, Value) else Value(other) # turn other to Value object before calculation\n",
        "        out = Value(self.data + other.data, (self, other), '+')\n",
        "\n",
        "        def _backward(): # <8> \n",
        "            self.grad += 1.0 * out.grad\n",
        "            other.grad += 1.0 * out.grad\n",
        "        out._backward = _backward\n",
        "\n",
        "        return out\n",
        "\n",
        "    def __mul__(self, other):\n",
        "        other = other if isinstance(other, Value) else Value(other) # turn other to Value object before calculation\n",
        "        out = Value(self.data * other.data, (self, other), '*')\n",
        "\n",
        "        def _backward():\n",
        "            self.grad += other.data * out.grad\n",
        "            other.grad += self.data * out.grad\n",
        "        out._backward = _backward\n",
        "\n",
        "        return out\n",
        "\n",
        "    def tanh(self):\n",
        "        x = self.data\n",
        "        t = (math.exp(2*x) - 1) / (math.exp(2*x) + 1)\n",
        "        out = Value(t, (self, ), 'tanh')\n",
        "\n",
        "        def _backward():\n",
        "            self.grad += (1 - t**2) * out.grad\n",
        "        out._backward = _backward\n",
        "        return out\n",
        "\n",
        "    def backward(self):\n",
        "        \n",
        "        # topo order for all children in the graph\n",
        "        topo = []\n",
        "        visited = set()\n",
        "        def build_topo(v):\n",
        "            if v not in visited:\n",
        "                visited.add(v)\n",
        "                for child in v._prev:\n",
        "                    build_topo(child) \n",
        "                topo.append(v)\n",
        "        build_topo(self)\n",
        "\n",
        "        # sequentially apply the chain rules\n",
        "        self.grad = 1.0\n",
        "        for node in reversed(topo):\n",
        "            node._backward()"
      ],
      "id": "7d7156f0",
      "execution_count": null,
      "outputs": []
    },
    {
      "cell_type": "markdown",
      "metadata": {},
      "source": [
        "3. the connective tissue of this expression. We want to keep these expression graphs, so we need to know and keep pointers about what values produce what other values. `_children` is by default a empty tuple.\n",
        "4. as we added `_children`, we also need to point out the father - children relationship in method `__add__` and `__mul__` as well.\n",
        "5. we want to know the **operation** between father and child, `_op` is empty string by default, the value `+` and `-` will be added to the operator method respectively.\n",
        "6. initially assume that node has no impact to the output.\n",
        "7. this backward function basically do nothing at the initial.\n",
        "8. implement of backward pass for plus node, `+=` represent the accumulate action (rather than overwrite it), assigne the gradient behaviour for each type of operation, call the `_backward` concurrently with function.\n",
        "\n",
        "Setting input and expression:"
      ],
      "id": "785c130d"
    },
    {
      "cell_type": "code",
      "metadata": {},
      "source": [
        "a = Value(2.0, label='a')\n",
        "b = Value(-3.0, label='b')\n",
        "c = Value(10.0, label='c')\n",
        "\n",
        "a + b # <1> \n",
        "\n",
        "a*b + c # <2>\n",
        "\n",
        "# d = a*b + c rewrite the expression\n",
        "e = a*b; e.label = 'e'\n",
        "d = e + c; d.label = 'd'\n",
        "# d\n",
        "f = Value(-2.0, label='f')\n",
        "L = d * f; L.label = 'L'\n",
        "L"
      ],
      "id": "077ed36a",
      "execution_count": null,
      "outputs": []
    },
    {
      "cell_type": "markdown",
      "metadata": {},
      "source": [
        "1. which will internally call `a.__add__(b)`\n",
        "2. which will internally call `(a.__mul__(b)).__add__(c)`\n",
        "\n",
        "So that we can know the children:"
      ],
      "id": "0ea3a4c5"
    },
    {
      "cell_type": "code",
      "metadata": {},
      "source": [
        "d._prev"
      ],
      "id": "2199be67",
      "execution_count": null,
      "outputs": []
    },
    {
      "cell_type": "markdown",
      "metadata": {},
      "source": [
        "We can know the operations:"
      ],
      "id": "e0585265"
    },
    {
      "cell_type": "code",
      "metadata": {},
      "source": [
        "d._op"
      ],
      "id": "19e854d0",
      "execution_count": null,
      "outputs": []
    },
    {
      "cell_type": "markdown",
      "metadata": {},
      "source": [
        "Now we know exactly how each value came to be by **word** expression and from what other values. These will be quite abit larger, so we need a way to nicely visualize these expressions that we're building out. Below are a-little-scary codes."
      ],
      "id": "2a64c8ed"
    },
    {
      "cell_type": "code",
      "metadata": {},
      "source": [
        "import os\n",
        "\n",
        "# Assuming the Graphviz bin directory path is 'C:/Program Files (x86)/Graphviz2.xx/bin'\n",
        "os.environ[\"PATH\"] += os.pathsep + 'C:/Program Files (x86)/Graphviz/bin' # add with the code, Gemini instructed me this 😪\n",
        "\n",
        "from graphviz import Digraph\n",
        "\n",
        "def trace(root):\n",
        "    # build a set of all nodes and edges in a graph\n",
        "    nodes, edges = set(), set()\n",
        "    def build(v):\n",
        "        if v not in nodes:\n",
        "            nodes.add(v) # <1>\n",
        "            for child in v._prev:\n",
        "                edges.add((child, v)) # <2>\n",
        "                build(child)\n",
        "    build(root)\n",
        "\n",
        "    return nodes, edges\n",
        "\n",
        "def draw_dot(root):\n",
        "    dot = Digraph(format='pdf', graph_attr={'rankdir': 'LR'}) # LR = from left to right\n",
        "    nodes, edges = trace(root)\n",
        "    for n in nodes:\n",
        "        uid = str(id(n))\n",
        "        # for any value in the graph, create a rectangular ('record') node for it\n",
        "        dot.node(name=uid, label=\"{ %s | data %.4f | grad %.4f}\" % (n.label, n.data, n.grad), shape='record') # why is (n.data, ), but not (n.data) ???\n",
        "        if n._op:\n",
        "            # if this value is a result of some operations, create an op node for it\n",
        "            dot.node(name = uid + n._op, label = n._op)\n",
        "            # and connect the node to it\n",
        "            dot.edge(uid + n._op, uid)\n",
        "\n",
        "    for n1, n2 in edges:\n",
        "        # connect n1 to the op node of n2\n",
        "        dot.edge(str(id(n1)), str(id(n2)) + n2._op)\n",
        "\n",
        "    return dot"
      ],
      "id": "5a1d1ea2",
      "execution_count": null,
      "outputs": []
    },
    {
      "cell_type": "markdown",
      "metadata": {},
      "source": [
        "1. This will collect all nodes to the `nodes`.\n",
        "2. This will iteratively recursively collect all nodes to the `nodes`, add child and node ralationship information to `edges`.\n",
        "\n",
        ":::{.column-margin}\n",
        "Remember to let [graphviz](https://graphviz.org/download/) installed on your machine, not only Python package, I also run this:"
      ],
      "id": "dc3a4bd1"
    },
    {
      "cell_type": "code",
      "metadata": {},
      "source": [
        "#| eval: false\n",
        "import os\n",
        "os.environ[\"PATH\"] += os.pathsep + 'C:\\Program Files (x86)\\Graphviz\\bin\\dot.exe'"
      ],
      "id": "5b65632a",
      "execution_count": null,
      "outputs": []
    },
    {
      "cell_type": "markdown",
      "metadata": {},
      "source": [
        "::: \n",
        "\n",
        "Now we can draw 🚀. "
      ],
      "id": "18926b94"
    },
    {
      "cell_type": "code",
      "metadata": {},
      "source": [
        "#| eval: false\n",
        "draw_dot(d)"
      ],
      "id": "58a9c413",
      "execution_count": null,
      "outputs": []
    },
    {
      "cell_type": "markdown",
      "metadata": {},
      "source": [
        "So far we've build out mathematical expressions using only plus `+` and times `*`, all `Value`s are only scalar.\n",
        "\n",
        "Back to the `Value` object, we will create 1 more attribute call `label`, make the expression more complicated by adding intermediate value `f`, `d`, out final node will be capital `L`.\n",
        "\n",
        "# Backpropagation\n",
        "\n",
        "In backpropagation, we start at the end and are going to reverse and calculate the gradients along all the intermediate values. What we are actually computing for evert single node here is derivative of that node with respect to `L`.\n",
        "\n",
        "In neural nets, `L` represent to a Loss function. And you will be very interested in the derivative of bassically loss function `L` with respect to the **weights** of the neural networks.\n",
        "\n",
        "We need to know how are those **leaf nodes** `a`, `b`, `c`, `f` are impacting to the loss function. We call it `grad` and add this attribute to the `Value` object.\n",
        "\n",
        "## manual backpropagation example #1: simple expression\n",
        "\n",
        ":::{.column-page}"
      ],
      "id": "2f5c0bf0"
    },
    {
      "cell_type": "code",
      "metadata": {},
      "source": [
        "#| eval: false\n",
        "draw_dot(L)"
      ],
      "id": "c36fe898",
      "execution_count": null,
      "outputs": []
    },
    {
      "cell_type": "markdown",
      "metadata": {},
      "source": [
        ":::\n",
        "\n",
        "Let's do the backpropagation **manually**:\n",
        "\n",
        "1. First we need to calculate the `dL/dL`, how `L` will response if we change `L` a tiny value `h`. The response simply is `1` so `L.grad = 1.0`.\n",
        "2. `F = d * f`, so `dL/dd` -> `(f((x+h)) - f(x))/h = ((d+h)*f - d*f)/h = h*f/h = f = -2.0`. Quite straighforward, so `d.grad = -2.0`.\n",
        "3. Similarly, `f.grad = d = 4`.  \n",
        "4. Next, for `dL/dc`. We first concern `dd/dc`, we know `d = c + e`. Same with (2) we will soon know `dd/dc = 1.0`, by symmetry `dd/de = 1.0`. Following the **Chain Rules** $h'(x) = f'(g(x))g'(x)$, we have `dL/dc = dL/dd * dd/dc = -2.0 * 1 = -2.0`. [[Chain Rules Wiki](https://en.wikipedia.org/wiki/Chain_rule)]{.aside}\n",
        "5. By symmetry, `dL/de = -2.0`.\n",
        "6. `dL/da = dL/de * de/da = -2.0 * b = -2.0 * -3.0 = 6.0`.\n",
        "7. `dl/db = dL/de * de/db = -2.0 * a = -2.0 * 2.0 = -4.0`.\n",
        "\n",
        "We can also create a function for playing around / gradient check, and not messing up the global scope."
      ],
      "id": "9d8f1b5f"
    },
    {
      "cell_type": "code",
      "metadata": {},
      "source": [
        "def lol():\n",
        "\n",
        "    h = 0.0001\n",
        "\n",
        "    a = Value(2.0, label='a')\n",
        "    b = Value(-3.0, label='b')\n",
        "    c = Value(10.0, label='c')\n",
        "    e = a*b; e.label = 'e'\n",
        "    d = e + c; d.label = 'd'\n",
        "    f = Value(-2.0, label='f')\n",
        "    L = d * f; L.label = 'L'\n",
        "    L1 = L.data\n",
        "\n",
        "    a = Value(2.0, label='a')\n",
        "    b = Value(-3.0, label='b')\n",
        "    c = Value(10.0, label='c')\n",
        "    c.data += h # dL/dc = -2.0\n",
        "    e = a*b; e.label = 'e'\n",
        "    d = e + c; d.label = 'd'\n",
        "    # d.data += h # dL/dd = -2.0\n",
        "    f = Value(-2.0 # + h # dL/df = 4.0\n",
        "                , label='f') \n",
        "    L = d * f; L.label = 'L'\n",
        "    L2 = L.data # + h # dL/dL = 1.0\n",
        "\n",
        "    print((L2 - L1) / h)\n",
        "\n",
        "lol()"
      ],
      "id": "cd92fdac",
      "execution_count": null,
      "outputs": []
    },
    {
      "cell_type": "markdown",
      "metadata": {},
      "source": [
        "So that is backpropagation ~ just recursively applying the Chain Rules, multiplying local derivatives.\n",
        "\n",
        "## preview of a single optimization step\n",
        "\n",
        "We can change the input that we can control `a, b, c, f` to see 1 step of the optimization of process."
      ],
      "id": "a73ebc01"
    },
    {
      "cell_type": "code",
      "metadata": {},
      "source": [
        "a.grad = 6.0\n",
        "b.grad = -4.0\n",
        "c.grad = -2.0\n",
        "f.grad = 4.0\n",
        "\n",
        "a.data += 0.01 * a.grad\n",
        "b.data += 0.01 * b.grad\n",
        "c.data += 0.01 * c.grad\n",
        "f.data += 0.01 * f.grad\n",
        "\n",
        "e = a * b; e.grad = -2.0; e.label = 'e'\n",
        "d = e + c; d.grad = -2.0; d.label = 'd'\n",
        "L = d * f\n",
        "\n",
        "print(L.data)"
      ],
      "id": "8eadb2b0",
      "execution_count": null,
      "outputs": []
    },
    {
      "cell_type": "markdown",
      "metadata": {},
      "source": [
        "We can see the changes, `L` increased a little bit as expected.\n",
        "\n",
        ":::{.column-page}"
      ],
      "id": "1fd02929"
    },
    {
      "cell_type": "code",
      "metadata": {},
      "source": [
        "#| eval: false\n",
        "draw_dot(L)"
      ],
      "id": "a79a3bf6",
      "execution_count": null,
      "outputs": []
    },
    {
      "cell_type": "markdown",
      "metadata": {},
      "source": [
        ":::\n",
        "\n",
        "## manual backpropagation example #2: a neuron\n",
        "\n",
        "Anatomy of neurons, we have:\n",
        "\n",
        "- `axon` as input $x_0$;\n",
        "- `synapse` string as weight $w_0$;\n",
        "- information flows into the cell body will be $x_0w_0$;\n",
        "- there are multiple inputs $x_iw_i$ flow into the cell body;\n",
        "- the cell body has some *bias* itself $b$;\n",
        "- the cell body processes all information, the output will flow through an *activation* function ~ which is some kind of a squashing function, like `sigmoid`, `tanh` or something like that;\n",
        "\n",
        "::: {layout-ncol=1}\n",
        "![Neural net Structure with an Activation Function, CS231n Stanford 2017](https://www.researchgate.net/publication/364814302/figure/fig5/AS:11431281092677232@1666928276027/Neural-net-Structure-with-an-Activation-Function-Source-CS231n-Stanford-2017.png){width=100%}\n",
        ":::\n",
        "\n",
        "\n",
        "🚀How does the `tanh` look like? this hyperbolic function will squash the output to the edge values: `-1.0` or `1.0`."
      ],
      "id": "c799b7cc"
    },
    {
      "cell_type": "code",
      "metadata": {},
      "source": [
        "plt.plot(np.arange(-5, 5, 0.2), np.tanh(np.arange(-5, 5, 0.2))); plt.grid()"
      ],
      "id": "ee7d0f31",
      "execution_count": null,
      "outputs": []
    },
    {
      "cell_type": "markdown",
      "metadata": {},
      "source": [
        ":::{.column-margin}\n",
        "We first implement [`tanh`](https://en.wikipedia.org/wiki/Hyperbolic_functions) function to our class `Value`."
      ],
      "id": "6186d60c"
    },
    {
      "cell_type": "code",
      "metadata": {},
      "source": [
        "#| eval: false\n",
        "def tanh(self):\n",
        "    x = self.data\n",
        "    t = (math.exp(2*x) - 1) / (math.exp(2*x) + 1)\n",
        "    out = Value(t, (self, ), 'tanh')\n",
        "    return out\n",
        "\n",
        "Value.tanh = tanh"
      ],
      "id": "28dee9ce",
      "execution_count": null,
      "outputs": []
    },
    {
      "cell_type": "markdown",
      "metadata": {},
      "source": [
        ":::\n",
        "\n",
        "Let's take a simple example of 2-dimensional neuron with 2 inputs `x1` and `x2`:"
      ],
      "id": "83c21e47"
    },
    {
      "cell_type": "code",
      "metadata": {},
      "source": [
        "# input x1, x2\n",
        "x1 = Value(2.0, label='x1')\n",
        "x2 = Value(0.0, label='x2')\n",
        "# weights w1,w2\n",
        "w1 = Value(-3.0, label='w1')\n",
        "w2 = Value(1.0, label='w2')\n",
        "# bias of neuron b\n",
        "b = Value(6.88137358, label='b')\n",
        "# x1*w1 + x2*w2 + b\n",
        "x1w1 = x1*w1; x1w1.label = 'x1w1'\n",
        "x2w2 = x2*w2; x2w2.label = 'x2w2'\n",
        "x1w1x2w2 = x1w1 + x2w2; x1w1x2w2.label = 'x1w1 + x2w2'\n",
        "n = x1w1x2w2 + b; n.label = 'n'\n",
        "\n",
        "o = n.tanh(); o.label = 'o' # not define yet"
      ],
      "id": "37910fea",
      "execution_count": null,
      "outputs": []
    },
    {
      "cell_type": "markdown",
      "metadata": {},
      "source": [
        ":::{.column-page}"
      ],
      "id": "09868083"
    },
    {
      "cell_type": "code",
      "metadata": {},
      "source": [
        "#| eval: false\n",
        "draw_dot(o)"
      ],
      "id": "4d655fd0",
      "execution_count": null,
      "outputs": []
    },
    {
      "cell_type": "markdown",
      "metadata": {},
      "source": [
        ":::\n",
        "\n",
        "\n",
        ":::{.column-margin}"
      ],
      "id": "cf652359"
    },
    {
      "cell_type": "code",
      "metadata": {},
      "source": [
        "o.grad = 1.0\n",
        "n.grad = 1.0 - o.data ** 2\n",
        "b.grad = n.grad\n",
        "x1w1x2w2.grad = n.grad\n",
        "x1w1.grad = x1w1x2w2.grad\n",
        "x2w2.grad = x1w1x2w2.grad\n",
        "x1.grad = w1.data * x1w1.grad\n",
        "w1.grad = x1.data * x1w1.grad\n",
        "x2.grad = w2.data * x2w2.grad\n",
        "w2.grad = x2.data * x2w2.grad"
      ],
      "id": "a00ba75c",
      "execution_count": null,
      "outputs": []
    },
    {
      "cell_type": "markdown",
      "metadata": {},
      "source": [
        ":::\n",
        "\n",
        "From here we will manually calculate the gradient again:\n",
        "\n",
        "1. `do/do = 1`, that's the base case, so `o.grad = 1.0`.\n",
        "2. `o = tanh(n)`, follow that Wiki link (and of course can be easily proof) we have `do/dn = 1 - tanh(x)^2 = 1 - o^2`.\n",
        "3. `n = x1w1x2w2 + b`, this is plus node, which gradient will flow to children equally, `do/db = do/dn * dn/db = do/dn * 1`.\n",
        "4. By symmertry, `do/dx1w1x2w2 = do/db`.\n",
        "5. `do/dx1w1 = do/dx1w1x2w2`.\n",
        "6. `do/dx2w2 = do/dx1w1x2w2`.\n",
        "7. `do/dx1 = w1 * do/dx1w1`.\n",
        "8. `do/dw1 = x1 * do/dx1w1`.\n",
        "9. `do/dx2 = w2 * do/dx2w2`.\n",
        "10. `do/dw2 = x2 * do/dx2w2`.\n",
        "\n",
        ":::{.column-page}"
      ],
      "id": "c272d5b3"
    },
    {
      "cell_type": "code",
      "metadata": {},
      "source": [
        "#| eval: false\n",
        "draw_dot(o)"
      ],
      "id": "223995f7",
      "execution_count": null,
      "outputs": []
    },
    {
      "cell_type": "markdown",
      "metadata": {},
      "source": [
        ":::\n",
        "\n",
        "## implementing the backward function for each operation\n",
        "\n",
        "Doing the backpropagation manually is obviously ridiculous and we are now to put an end to this suffering. We will see how we can implement backward pass a bit more automatically.\n",
        "\n",
        "We create `_backward` operation for each operator, implement the Chain Rules. Activate the `_backward` call along with funtion execution."
      ],
      "id": "61f65897"
    },
    {
      "cell_type": "code",
      "metadata": {},
      "source": [
        "o.grad = 1.0\n",
        "\n",
        "o._backward()\n",
        "n._backward()\n",
        "b._backward()\n",
        "x1w1x2w2._backward()\n",
        "x1w1._backward()\n",
        "x2w2._backward()"
      ],
      "id": "dde893f8",
      "execution_count": null,
      "outputs": []
    },
    {
      "cell_type": "markdown",
      "metadata": {},
      "source": [
        ":::{.column-page}"
      ],
      "id": "ac6d1c74"
    },
    {
      "cell_type": "code",
      "metadata": {},
      "source": [
        "#| eval: false\n",
        "draw_dot(o)"
      ],
      "id": "ebec3df3",
      "execution_count": null,
      "outputs": []
    },
    {
      "cell_type": "markdown",
      "metadata": {},
      "source": [
        ":::\n",
        "\n",
        "We still need to call the `_backward` node by node. Now we move to the next step, to implement backward function to whole expression graph.\n",
        "\n",
        "## implementing the backward function for a whole expression graph\n",
        "\n",
        "In short, we need to do everything after each node before we call the backward function itself. For every node, all dependencies, everything that it depends on has to propagate to it before we can continue backpropagation.\n",
        "\n",
        "This ordering of graph can be archived using something like [topological sort](https://en.wikipedia.org/wiki/Topological_sorting).\n",
        "\n",
        "::: {layout-ncol=1}\n",
        "![Topological Sort, photo credit to [Claire Lee](https://yuminlee2.medium.com/topological-sort-cf9f8e43af6a)](https://miro.medium.com/v2/resize:fit:720/format:webp/1*0jRSNI2zo30sENk2qlqEvw.png){width=100%}\n",
        ":::\n",
        "\n",
        ":::{.column-margin}"
      ],
      "id": "bcb0b336"
    },
    {
      "cell_type": "code",
      "metadata": {},
      "source": [
        "# we first reset the Values\n",
        "x1 = Value(2.0, label='x1')\n",
        "x2 = Value(0.0, label='x2')\n",
        "w1 = Value(-3.0, label='w1')\n",
        "w2 = Value(1.0, label='w2')\n",
        "b = Value(6.88137358, label='b')\n",
        "x1w1 = x1*w1; x1w1.label = 'x1w1'\n",
        "x2w2 = x2*w2; x2w2.label = 'x2w2'\n",
        "x1w1x2w2 = x1w1 + x2w2; x1w1x2w2.label = 'x1w1 + x2w2'\n",
        "n = x1w1x2w2 + b; n.label = 'n'\n",
        "o = n.tanh(); o.label = 'o'"
      ],
      "id": "ab649cb6",
      "execution_count": null,
      "outputs": []
    },
    {
      "cell_type": "markdown",
      "metadata": {},
      "source": [
        ":::\n",
        "\n",
        "Below is the code:"
      ],
      "id": "596bd3eb"
    },
    {
      "cell_type": "code",
      "metadata": {},
      "source": [
        "topo = []\n",
        "visited = set()\n",
        "\n",
        "def build_topo(v):\n",
        "    if v not in visited:\n",
        "        visited.add(v)\n",
        "        for child in v._prev:\n",
        "            build_topo(child) # recursively look up all children for v\n",
        "        topo.append(v)\n",
        "\n",
        "build_topo(o)\n",
        "topo"
      ],
      "id": "8a65ff65",
      "execution_count": null,
      "outputs": []
    },
    {
      "cell_type": "markdown",
      "metadata": {},
      "source": [
        "We implement the topological sort to `backward()` (without underscore) function. Now we can trigger the whole process:"
      ],
      "id": "fb05e64a"
    },
    {
      "cell_type": "code",
      "metadata": {},
      "source": [
        "o.backward()"
      ],
      "id": "51912edf",
      "execution_count": null,
      "outputs": []
    },
    {
      "cell_type": "markdown",
      "metadata": {},
      "source": [
        ":::{.column-page}"
      ],
      "id": "b0fc1459"
    },
    {
      "cell_type": "code",
      "metadata": {},
      "source": [
        "#| eval: false\n",
        "draw_dot(o)"
      ],
      "id": "b7233e3b",
      "execution_count": null,
      "outputs": []
    },
    {
      "cell_type": "markdown",
      "metadata": {},
      "source": [
        ":::\n",
        "\n",
        "## fixing a backprop bug when one node is used multiple times ⛔\n",
        "\n",
        "This `a.grad` should be `2.0`."
      ],
      "id": "fe404e01"
    },
    {
      "cell_type": "code",
      "metadata": {},
      "source": [
        "a = Value(3.0, label='a')\n",
        "b = a + a; b.label = 'b' # this case self and other are both a, we should not overwrite the gradient, we should accumulate it.\n",
        "b.backward()\n",
        "# draw_dot(b)"
      ],
      "id": "c62c94f7",
      "execution_count": null,
      "outputs": []
    },
    {
      "cell_type": "markdown",
      "metadata": {},
      "source": [
        "## breaking up a `tanh`, exercising with more operations\n",
        "\n",
        "Sometime we do operations between `Value` and other, like `int`. We can not do this unless we add below code to `__add__` and `__mul__` operations. Now we can `Value(1.0) + 1.0`, or `Value(2.0) * 2`."
      ],
      "id": "2b30485d"
    },
    {
      "cell_type": "code",
      "metadata": {},
      "source": [
        "#| eval: false\n",
        "other = other if isinstance(other, Value) else Value(other)"
      ],
      "id": "0b985d00",
      "execution_count": null,
      "outputs": []
    },
    {
      "cell_type": "markdown",
      "metadata": {},
      "source": [
        "But for `2 * Value(2.0)`, which will internally call `2.__mul__(Value(2.0))`, will not work. We add `__rmul__`:"
      ],
      "id": "bfd5890c"
    },
    {
      "cell_type": "code",
      "metadata": {},
      "source": [
        "def __rmul__(self, other): # other * self\n",
        "    return self * other\n",
        "\n",
        "Value.__rmul__ = __rmul__"
      ],
      "id": "dd36422f",
      "execution_count": null,
      "outputs": []
    },
    {
      "cell_type": "markdown",
      "metadata": {},
      "source": [
        "For exponential, we add `epx`:"
      ],
      "id": "e6c4063a"
    },
    {
      "cell_type": "code",
      "metadata": {},
      "source": [
        "def exp(self):\n",
        "    x = self.data\n",
        "    out = Value(math.exp(x), (self, ), 'exp')\n",
        "\n",
        "    def _backward():\n",
        "        self.grad += out.data * out.grad\n",
        "    out._backward = _backward\n",
        "\n",
        "    return out\n",
        "\n",
        "Value.exp = exp"
      ],
      "id": "69a64610",
      "execution_count": null,
      "outputs": []
    },
    {
      "cell_type": "markdown",
      "metadata": {},
      "source": [
        "For division, we add `__truediv__`:"
      ],
      "id": "9b558b18"
    },
    {
      "cell_type": "code",
      "metadata": {},
      "source": [
        "def __truediv__(self, other): # self / other\n",
        "    return self * other**(-1)\n",
        "\n",
        "Value.__truediv__ = __truediv__"
      ],
      "id": "3877c0e5",
      "execution_count": null,
      "outputs": []
    },
    {
      "cell_type": "markdown",
      "metadata": {},
      "source": [
        "For power, we add `__pow__`:"
      ],
      "id": "31c5bf2a"
    },
    {
      "cell_type": "code",
      "metadata": {},
      "source": [
        "def __pow__(self, other): # self ** other\n",
        "    assert isinstance(other, (int, float)), \"TypeError: only supporting int/float power for now\"\n",
        "    out = Value(self.data**other, (self, ), f'**{other}')\n",
        "\n",
        "    def _backward():\n",
        "        self.grad += other * ( self.data ** (other - 1)) * out.grad\n",
        "    out._backward = _backward\n",
        "\n",
        "    return out\n",
        "\n",
        "Value.__pow__ = __pow__ "
      ],
      "id": "54358965",
      "execution_count": null,
      "outputs": []
    },
    {
      "cell_type": "markdown",
      "metadata": {},
      "source": [
        "For subtract, we add `__neg__` and `__sub__`:"
      ],
      "id": "b769a0a2"
    },
    {
      "cell_type": "code",
      "metadata": {},
      "source": [
        "def __neg__(self): # - self\n",
        "    return - self\n",
        "\n",
        "Value.__neg__ = __neg__ # self - other\n",
        "\n",
        "def __sub__(self, other):\n",
        "    return self + (-other)\n",
        "\n",
        "Value.__sub__ = __sub__"
      ],
      "id": "1574d948",
      "execution_count": null,
      "outputs": []
    },
    {
      "cell_type": "markdown",
      "metadata": {},
      "source": [
        "Now we are ready to try `tanh` in a different way:"
      ],
      "id": "151ff01d"
    },
    {
      "cell_type": "code",
      "metadata": {},
      "source": [
        "x1 = Value(2.0, label='x1')\n",
        "x2 = Value(0.0, label='x2')\n",
        "w1 = Value(-3.0, label='w1')\n",
        "w2 = Value(1.0, label='w2')\n",
        "b = Value(6.88137358, label='b')\n",
        "x1w1 = x1*w1; x1w1.label = 'x1w1'\n",
        "x2w2 = x2*w2; x2w2.label = 'x2w2'\n",
        "x1w1x2w2 = x1w1 + x2w2; x1w1x2w2.label = 'x1w1 + x2w2'\n",
        "n = x1w1x2w2 + b; n.label = 'n'\n",
        "\n",
        "e = (2*n).exp(); e.label = 'e'\n",
        "o = (e - 1)/(e + 1)\n",
        "o.label = 'o'\n",
        "o.backward()"
      ],
      "id": "160e9177",
      "execution_count": null,
      "outputs": []
    },
    {
      "cell_type": "markdown",
      "metadata": {},
      "source": [
        ":::{.column-screen}"
      ],
      "id": "29c73e25"
    },
    {
      "cell_type": "code",
      "metadata": {},
      "source": [
        "#| eval: false\n",
        "draw_dot(o)"
      ],
      "id": "6c8e0751",
      "execution_count": null,
      "outputs": []
    },
    {
      "cell_type": "markdown",
      "metadata": {},
      "source": [
        ":::\n",
        "\n",
        "# PyTorch comparison\n",
        "\n",
        "## doing the same thing but in PyTorch: comparison"
      ],
      "id": "1c615e5d"
    },
    {
      "cell_type": "code",
      "metadata": {},
      "source": [
        "import torch\n",
        "\n",
        "x1 = torch.tensor([2.0]).double(); x1.requires_grad = True\n",
        "x2 = torch.tensor([0.0]).double(); x2.requires_grad = True\n",
        "w1 = torch.tensor([-3.0]).double(); w1.requires_grad = True\n",
        "w2 = torch.tensor([1.0]).double(); w2.requires_grad = True\n",
        "b = torch.tensor([6.8813735870195432]).double(); b.requires_grad = True\n",
        "\n",
        "n = x1*w1 + x2*w2 + b\n",
        "o = torch.tanh(n)\n",
        "\n",
        "print(o.data.item())\n",
        "o.backward()\n",
        "\n",
        "print('------------------')\n",
        "print('x1', x1.grad.item())\n",
        "print('w1', w1.grad.item())\n",
        "print('x2', x2.grad.item())\n",
        "print('w2', w2.grad.item())\n",
        "print('------------------')"
      ],
      "id": "2ba58315",
      "execution_count": null,
      "outputs": []
    },
    {
      "cell_type": "markdown",
      "metadata": {},
      "source": [
        "# Building the library\n",
        "\n",
        "## building out a neural net library (multi-layer perceptron) in micrograd\n",
        "\n",
        "We are going to build out a two-layer perceptron.\n",
        "\n",
        "::: {layout-ncol=1}\n",
        "![A 3-layer neural network with three inputs, two hidden layers of 4 neurons each and one output layer. Notice that in both cases there are connections (synapses) between neurons across layers, but not within a layer, photo credit to [cs231n](https://cs231n.github.io/neural-networks-1/)](https://cs231n.github.io/assets/nn1/neural_net2.jpeg){width=100%}\n",
        ":::"
      ],
      "id": "1d91a93e"
    },
    {
      "cell_type": "code",
      "metadata": {},
      "source": [
        "class Neuron:\n",
        "\n",
        "    def __init__(self, nin): # <1>\n",
        "        self.w = [Value(np.random.uniform(-1,1)) for _ in range(nin)]\n",
        "        self.b = Value(np.random.uniform(-1,1))\n",
        "    \n",
        "    def __call__(self, x): # <2>\n",
        "        activation = sum((wi*xi for wi, xi in zip(self.w, x)), self.b)\n",
        "        out = activation.tanh()\n",
        "        return out\n",
        "\n",
        "    def parameters(self):\n",
        "        return self.w + [self.b] # list plus list gives you a list\n",
        "\n",
        "class Layer:\n",
        "\n",
        "    def __init__(self, nin, nout):\n",
        "        self.neurons = [Neuron(nin) for _ in range(nout)] # <3>\n",
        "\n",
        "    def __call__(self, x):\n",
        "        outs = [n(x) for n in self.neurons]\n",
        "        return outs[0] if len(outs) == 1 else outs\n",
        "\n",
        "    def parameters(self):\n",
        "        return [p for neuron in self.neurons for p in neuron.parameters()] # list comprehension\n",
        "        # params = []\n",
        "        # for neuron in self.neurons:\n",
        "        #     ps = neuron.parameters()\n",
        "        #     params.extend(ps)\n",
        "        # return params\n",
        "\n",
        "class MLP:\n",
        "\n",
        "    def __init__(self, nin, nouts): # <4>\n",
        "        sz = [nin] + nouts\n",
        "        self.layers = [Layer(sz[i], sz[i+1]) for i in range(len(nouts))]\n",
        "\n",
        "    def __call__(self, x):\n",
        "        for layer in self.layers:\n",
        "            x = layer(x)\n",
        "        return x\n",
        "\n",
        "    def parameters(self):\n",
        "        return [p for layer in self.layers for p in layer.parameters()] # for neuron in layer.neurons for neuron.parameters()]"
      ],
      "id": "6372b2bd",
      "execution_count": null,
      "outputs": []
    },
    {
      "cell_type": "markdown",
      "metadata": {},
      "source": [
        "1. Number of `input` for the Neuron. `w` is randomly generated for each input, same for `b` which is the bias that controll \"the happiness\".\n",
        "2. Object as a function: define the forward pass of the Neuron $\\sum\\limits_{i=1}^{nin} w_ix_i+b$, then squash the output using `tanh`.\n",
        "3. A Layer is a list of Neurons, `nout` specifies how many Neurons in the Layer. Each neuron has `nin` inputs ~ nin-D. We just initialize completely independent neurons with this given dimensionality.\n",
        "4. A MLP is a sequence of Layers, picture above depicts a 3-layers MLP containing 1 input layer and 3 output layers, we say the size is 4. We sequentially create connection from the input layer to the 1st output layer, 1st output layer to 2nd output layer,...\n"
      ],
      "id": "2977d2ce"
    },
    {
      "cell_type": "code",
      "metadata": {},
      "source": [
        "nin = 3\n",
        "nouts = [2.0, 3.0, -1.0]\n",
        "[nin] + nouts"
      ],
      "id": "ac3e1cf9",
      "execution_count": null,
      "outputs": []
    },
    {
      "cell_type": "code",
      "metadata": {},
      "source": [
        "x = [2.0, 3.0]\n",
        "n = Neuron(2)\n",
        "l = Layer(2, 3)\n",
        "n(x)\n",
        "l(x)"
      ],
      "id": "0766d1d2",
      "execution_count": null,
      "outputs": []
    },
    {
      "cell_type": "code",
      "metadata": {},
      "source": [
        "x = [2.0, 3.0, -1.0]\n",
        "m = MLP(3, [4, 4, 1]) # a MLP with 3-D input, 3 output layers contains 4, 4, 1 neurons in each layer respectively\n",
        "m(x)"
      ],
      "id": "31c571cf",
      "execution_count": null,
      "outputs": []
    },
    {
      "cell_type": "markdown",
      "metadata": {},
      "source": [
        ":::{.column-screen}"
      ],
      "id": "d53a83dd"
    },
    {
      "cell_type": "code",
      "metadata": {},
      "source": [
        "#| eval: false\n",
        "draw_dot(m(x))"
      ],
      "id": "00354d8b",
      "execution_count": null,
      "outputs": []
    },
    {
      "cell_type": "markdown",
      "metadata": {},
      "source": [
        ":::\n",
        "\n",
        "## creating a tiny dataset, writing the loss function\n",
        "\n",
        "A simple data set, `m()` is the MLP we defined above."
      ],
      "id": "a133f9c2"
    },
    {
      "cell_type": "code",
      "metadata": {},
      "source": [
        "xs = [\n",
        "    [2.0, 3.0, -1.0],\n",
        "    [3.0, -1.0, 0.5],\n",
        "    [0.5, 1.0, 1.0],\n",
        "    [1.0, 1.0, -1.0]\n",
        "]\n",
        "ys = [1.0, -1.0, -1.0, 1.0] # designed targets"
      ],
      "id": "84088c11",
      "execution_count": null,
      "outputs": []
    },
    {
      "cell_type": "markdown",
      "metadata": {},
      "source": [
        "Writing the loss function. [I was unable to sum a list of Value, found the solution [here](https://stackoverflow.com/questions/54153552/unsupported-operand-type-error-when-adding-objects-within-list-using-sum-functio); Edit: I used Numpy random instead of random]{.aside}"
      ],
      "id": "a60594a8"
    },
    {
      "cell_type": "code",
      "metadata": {},
      "source": [
        "ypred = [m(x) for x in xs]\n",
        "loss = np.array([(yout - ygt)**2 for ygt, yout in zip(ys, ypred)]).sum()\n",
        "\n",
        "loss"
      ],
      "id": "f489e998",
      "execution_count": null,
      "outputs": []
    },
    {
      "cell_type": "markdown",
      "metadata": {},
      "source": [
        "Backpropagation the `loss`, some magical here:"
      ],
      "id": "01a0a749"
    },
    {
      "cell_type": "code",
      "metadata": {},
      "source": [
        "loss.backward()"
      ],
      "id": "0c217768",
      "execution_count": null,
      "outputs": []
    },
    {
      "cell_type": "markdown",
      "metadata": {},
      "source": [
        "We can look into the gradient of weight of the first neuron of the first layer (input layer)"
      ],
      "id": "be44ee24"
    },
    {
      "cell_type": "code",
      "metadata": {},
      "source": [
        "print('value of 1st neuron in 1st layer: ',m.layers[0].neurons[0].w[0].data)\n",
        "print('grad of 1st neuron in 1st layer: ',m.layers[0].neurons[0].w[0].grad)"
      ],
      "id": "e8e2fbf6",
      "execution_count": null,
      "outputs": []
    },
    {
      "cell_type": "markdown",
      "metadata": {},
      "source": [
        ":::{.column-screen}"
      ],
      "id": "ac8b9528"
    },
    {
      "cell_type": "code",
      "metadata": {},
      "source": [
        "#| eval: false\n",
        "draw_dot(loss)"
      ],
      "id": "23013954",
      "execution_count": null,
      "outputs": []
    },
    {
      "cell_type": "markdown",
      "metadata": {},
      "source": [
        ":::\n",
        "\n",
        "## collecting all of the parameters of the neural net\n",
        "\n",
        "We aim to produce the fitness `ypred`. `xs` is the data, the input of problem, we can not change it. `ys` is the ground true, can not changes as well. What we can change is the \"paramters\" of each neuron, which is weight `w` and bias `b`.\n",
        "\n",
        "We add in to each class a `parameters()` function to collect those. Finally we can get all the paramters of the MLP:"
      ],
      "id": "5671d641"
    },
    {
      "cell_type": "code",
      "metadata": {},
      "source": [
        "len(m.parameters())"
      ],
      "id": "b99ac7e4",
      "execution_count": null,
      "outputs": []
    },
    {
      "cell_type": "markdown",
      "metadata": {},
      "source": [
        "## doing gradient descent optimization manually, training the network\n",
        "\n",
        "Now we will try to change the paramters to minimize the loss, which means our prediction will be more close to the ground true.\n",
        "\n",
        "**Forward pass**, calculate the loss:"
      ],
      "id": "182439dc"
    },
    {
      "cell_type": "code",
      "metadata": {},
      "source": [
        "ypred = [m(x) for x in xs]\n",
        "loss = np.array([(yout - ygt)**2 for ygt, yout in zip(ys, ypred)]).sum()\n",
        "loss"
      ],
      "id": "361811cf",
      "execution_count": null,
      "outputs": []
    },
    {
      "cell_type": "markdown",
      "metadata": {},
      "source": [
        "**Backward pass**, calculate the parameters:"
      ],
      "id": "6bba780b"
    },
    {
      "cell_type": "code",
      "metadata": {},
      "source": [
        "loss.backward()"
      ],
      "id": "c683435a",
      "execution_count": null,
      "outputs": []
    },
    {
      "cell_type": "markdown",
      "metadata": {},
      "source": [
        "**Update the parameters**, change the parameters following opposite direction to reduce the loss:"
      ],
      "id": "1caf9dcd"
    },
    {
      "cell_type": "code",
      "metadata": {},
      "source": [
        "for p in m.parameters():\n",
        "    p.data += -0.01 * p.grad # we want the p.data go on opposite direction of the loss"
      ],
      "id": "c221db63",
      "execution_count": null,
      "outputs": []
    },
    {
      "cell_type": "markdown",
      "metadata": {},
      "source": [
        "`0.01` is the learning rate!\n",
        "\n",
        "**New loss**"
      ],
      "id": "52e71877"
    },
    {
      "cell_type": "code",
      "metadata": {},
      "source": [
        "ypred = [m(x) for x in xs]\n",
        "loss = np.array([(yout - ygt)**2 for ygt, yout in zip(ys, ypred)]).sum()\n",
        "loss"
      ],
      "id": "3c4fa35f",
      "execution_count": null,
      "outputs": []
    },
    {
      "cell_type": "markdown",
      "metadata": {},
      "source": [
        "Yeah the loss decreased. In short, the process is:\n",
        "\n",
        "```{mermaid}\n",
        "%%{init: {'theme':'dark'}}%%\n",
        "flowchart LR\n",
        "\n",
        "P1(Updated parameters) -- Forward Pass --> L(Loss)\n",
        "L(Loss) -- Backward Pass --> P2(Parameters to update) \n",
        "P2(Parameters to update)  -- Update Pamameters --> P1(Updated parameters)\n",
        "```\n",
        "\n",
        "**Automate the training loop**:\n",
        "\n",
        ":::{.callout-warning}\n",
        "For each process, there remained a subtle bug above that we didn't flush the grads before backpropagation. Because we did not overwrite the gradients (remember the `+=`), they kept accumulated. The next action of backward and changing parameters using learning rate and grad (which produce a massive step size) become wrong! We must set the grad to zero before backward pass.\n",
        "\n",
        "![Common guilties when training the NN](guilty.png)\n",
        ":::"
      ],
      "id": "019467e8"
    },
    {
      "cell_type": "code",
      "metadata": {},
      "source": [
        "for k in range(20):\n",
        "    # forward pass:\n",
        "    ypred = [m(x) for x in xs]\n",
        "    loss = np.array([(yout - ygt)**2 for ygt, yout in zip(ys, ypred)]).sum()\n",
        "\n",
        "    # backward pass:\n",
        "    for p in m.parameters():\n",
        "        p.grad = 0.0\n",
        "    loss.backward()\n",
        "\n",
        "    # update params:\n",
        "    for p in m.parameters():\n",
        "        p.data += -0.01 * p.grad\n",
        "\n",
        "    print(k, loss.data)"
      ],
      "id": "3592ea6a",
      "execution_count": null,
      "outputs": []
    },
    {
      "cell_type": "code",
      "metadata": {},
      "source": [
        "ypred"
      ],
      "id": "fdf2b420",
      "execution_count": null,
      "outputs": []
    },
    {
      "cell_type": "markdown",
      "metadata": {},
      "source": [
        "# Summary\n",
        "\n",
        "## summary of what we learned, how to go towards modern neural nets\n",
        "\n",
        "1. What are Neural Nets: they are mathematical expressions, in case of MLP it takes: (1) data as the input, and (2) weights and biases as parameters to build out expression for the forward pass followed by the loss function.\n",
        "2. The loss function is kind of measure for the accuracy of predictions. The low loss implies that predicted values are matching our targets and the networks are behaving well.\n",
        "3. The process of Gradient Descent is for each step, we calculate the loss (output of the nets), backwarding it to get paramters, then updating data (which we can change - weights and biases) follow the opposite side of the loss (negative grad * learning rate). We'll get a lower loss, and backwarding again and again. This process will find the local minimum of the loss.\n",
        "\n",
        "## walkthrough of the full code of micrograd on github\n",
        "\n",
        "Same with which we built today:\n",
        "\n",
        "- engine: Value\n",
        "- nn: Neuron, Layer, MLP, and modulize the zero grad process to class Module\n",
        "- test: sanity check - compare the backward with `torch`, also for the forward pass\n",
        "- demo: a bit complicated example with `sklearn` dataset, using batch processing when the dataset come large, the loss is slightly different - SVM max-margin loss and using of auto L2 regularization\n",
        "- learning rate decay: is a scaled as a function of number of iterations, high at begin and low at the end\n",
        "\n",
        "## real stuff: diving into PyTorch, finding their backward pass for `tanh`\n",
        "\n",
        "These libraries unfortunately grow in size and **entropy**, if you just search for `tanh` it'll give you thousands of results.\n",
        "\n",
        "## conclusion\n",
        "\n",
        "There will be follow up session yeah haha.\n",
        "\n",
        "## outtakes :\\)\n",
        "\n",
        "Pytorch self-defined autograd.\n",
        "\n",
        "🤙🚀🔥"
      ],
      "id": "e0cc3e6b"
    }
  ],
  "metadata": {
    "kernelspec": {
      "name": ".venv",
      "language": "python",
      "display_name": ".venv"
    }
  },
  "nbformat": 4,
  "nbformat_minor": 5
}